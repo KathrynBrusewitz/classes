{
 "cells": [
  {
   "cell_type": "markdown",
   "metadata": {
    "ein.tags": "worksheet-0",
    "slideshow": {
     "slide_type": "-"
    }
   },
   "source": [
    "# Lab 04: Linear Regression and Causality\n",
    "cross-sectional estimator\n",
    "\n",
    "This lab asks you to do two tasks:\n",
    "\n",
    "First, to estimate the effect of Right Hearth\n",
    "Catheterization (RHC)--inserting a tiny hollow tube along the arterial into\n",
    "the right side of your hearth.  It is often done for diagnostical\n",
    "purposes (it allows to get different measures right in the hearth) and\n",
    "it's usually considered safe.\n",
    "\n",
    "Wou will use a dataset about RHC for critically ill patients and see\n",
    "if RHC is related to increased death rate.  The dataset is downloaded\n",
    "from [Vanderbilt\n",
    "Biostats](http://biostat.mc.vanderbilt.edu/wiki/Main/DataSets) and\n",
    "more information is available at\n",
    "[http://biostat.mc.vanderbilt.edu/wiki/pub/Main/DataSets/rhc.html](http://biostat.mc.vanderbilt.edu/wiki/pub/Main/DataSets/rhc.html).\n",
    "\n",
    "Second, you have to create (or re-create) the design matrices of the\n",
    "first problem, analyze their properties, and compute the regression\n",
    "coefficients of the first part \"manually\", i.e. by a simple matrix\n",
    "expression on computer.\n",
    "\n",
    "You can use both R and python."
   ]
  },
  {
   "cell_type": "code",
   "execution_count": 1,
   "metadata": {},
   "outputs": [
    {
     "name": "stdout",
     "output_type": "stream",
     "text": [
      "Numpy version:        1.13.3\n",
      "SciPy version:        0.19.1\n",
      "Pandas version:       0.20.3\n",
      "Maplotlib version:     2.1.0\n",
      "Scikit-Learn version: 0.19.1\n"
     ]
    },
    {
     "name": "stderr",
     "output_type": "stream",
     "text": [
      "/Users/kathryn/anaconda3/lib/python3.6/site-packages/statsmodels/compat/pandas.py:56: FutureWarning: The pandas.core.datetools module is deprecated and will be removed in a future version. Please use the pandas.tseries module instead.\n",
      "  from pandas.core import datetools\n"
     ]
    }
   ],
   "source": [
    "# Numpy is a library for working with Arrays\n",
    "import numpy as np\n",
    "print(\"Numpy version:        %6.6s\" % np.__version__)\n",
    "\n",
    "# SciPy implements many different numerical algorithms\n",
    "import scipy as sp\n",
    "print(\"SciPy version:        %6.6s\" % sp.__version__)\n",
    "import scipy.stats as st\n",
    "\n",
    "# Pandas makes working with data tables easier\n",
    "import pandas as pd\n",
    "print(\"Pandas version:       %6.6s\" % pd.__version__)\n",
    "\n",
    "# Module for plotting\n",
    "import matplotlib \n",
    "print(\"Maplotlib version:    %6.6s\" % matplotlib.__version__)\n",
    "%matplotlib inline\n",
    "# needed for inline plots in notebooks\n",
    "import matplotlib.pyplot as plt  \n",
    "\n",
    "# SciKit Learn implements several Machine Learning algorithms\n",
    "import sklearn\n",
    "print(\"Scikit-Learn version: %6.6s\" % sklearn.__version__)\n",
    "\n",
    "import statsmodels.api as sm"
   ]
  },
  {
   "cell_type": "markdown",
   "metadata": {
    "ein.tags": "worksheet-0",
    "slideshow": {
     "slide_type": "-"
    }
   },
   "source": [
    "## 1 Get Ready\n",
    "\n",
    "Load the data.  A tab-separated version is available on canvas (files/data).\n",
    "\n",
    "1. How many observation and variables do we have?\n",
    "2. The most important variables we use below are _death_ (patient\n",
    "death recorded/not recorded) and\n",
    "_swang1_ (rhc performed/not performed).  How are these variables coded?"
   ]
  },
  {
   "cell_type": "code",
   "execution_count": 2,
   "metadata": {},
   "outputs": [
    {
     "name": "stdout",
     "output_type": "stream",
     "text": [
      "                   cat1               cat2          ca  sadmdte  dschdte  \\\n",
      "0                  COPD                NaN         Yes    11142  11151.0   \n",
      "1         MOSF w/Sepsis                NaN          No    11799  11844.0   \n",
      "2     MOSF w/Malignancy      MOSF w/Sepsis         Yes    12083  12143.0   \n",
      "3                   ARF                NaN          No    11146  11183.0   \n",
      "4         MOSF w/Sepsis                NaN          No    12035  12037.0   \n",
      "5                  COPD                NaN          No    12389  12396.0   \n",
      "6     MOSF w/Malignancy                NaN  Metastatic    12381  12423.0   \n",
      "7                   ARF               Coma          No    11453  11487.0   \n",
      "8     MOSF w/Malignancy                NaN         Yes    12426  12437.0   \n",
      "9                   ARF                NaN         Yes    11381  11400.0   \n",
      "10                  ARF                NaN          No    11705  11724.0   \n",
      "11                  ARF                NaN          No    12174  12187.0   \n",
      "12        MOSF w/Sepsis                NaN          No    12149  12191.0   \n",
      "13        MOSF w/Sepsis                NaN          No    11483  11491.0   \n",
      "14                  ARF                NaN          No    11865  11905.0   \n",
      "15    MOSF w/Malignancy                NaN  Metastatic    12335  12404.0   \n",
      "16                  ARF                NaN          No    11751  11767.0   \n",
      "17        MOSF w/Sepsis                NaN          No    11198  11217.0   \n",
      "18        MOSF w/Sepsis                NaN          No    11030  11035.0   \n",
      "19                  ARF      MOSF w/Sepsis          No    12362  12410.0   \n",
      "20        MOSF w/Sepsis                NaN          No    10811  10836.0   \n",
      "21                  ARF                NaN  Metastatic    11119  11134.0   \n",
      "22                  CHF                NaN          No    10913  10921.0   \n",
      "23                 Coma                NaN          No    12281  12323.0   \n",
      "24                  CHF                NaN          No    11118  11128.0   \n",
      "25                  ARF                NaN          No    11259  11267.0   \n",
      "26                 Coma                NaN          No    11758  11764.0   \n",
      "27                 Coma  MOSF w/Malignancy         Yes    12302  12307.0   \n",
      "28                 Coma                NaN          No    12035  12050.0   \n",
      "29                  ARF      MOSF w/Sepsis          No    12372  12375.0   \n",
      "...                 ...                ...         ...      ...      ...   \n",
      "5705          Cirrhosis                NaN          No    11819  11834.0   \n",
      "5706          Cirrhosis                NaN          No    12097  12117.0   \n",
      "5707                ARF          Cirrhosis          No    12344  12358.0   \n",
      "5708  MOSF w/Malignancy      MOSF w/Sepsis  Metastatic    11167  11172.0   \n",
      "5709                ARF               Coma          No    11335  11344.0   \n",
      "5710      MOSF w/Sepsis                NaN          No    12322  12333.0   \n",
      "5711                ARF                NaN          No    12085  12145.0   \n",
      "5712                ARF                NaN          No    10964  10969.0   \n",
      "5713                ARF                NaN          No    11910  12011.0   \n",
      "5714      MOSF w/Sepsis                NaN          No    11959  11963.0   \n",
      "5715               COPD                NaN          No    11459  11469.0   \n",
      "5716                CHF                NaN          No    12300  12305.0   \n",
      "5717  MOSF w/Malignancy                NaN         Yes    10987  10990.0   \n",
      "5718                CHF                NaN          No    12295  12304.0   \n",
      "5719      MOSF w/Sepsis                NaN          No    11361  11401.0   \n",
      "5720                ARF        Lung Cancer  Metastatic    10860  10862.0   \n",
      "5721                ARF                NaN          No    11336  11435.0   \n",
      "5722      MOSF w/Sepsis                NaN          No    10772  10792.0   \n",
      "5723                ARF      MOSF w/Sepsis          No    10871  10891.0   \n",
      "5724                ARF                NaN         Yes    11722  11768.0   \n",
      "5725      MOSF w/Sepsis                NaN          No    11761  11831.0   \n",
      "5726                CHF                NaN          No    11722  11731.0   \n",
      "5727      MOSF w/Sepsis                NaN          No    11168  11182.0   \n",
      "5728                CHF                NaN          No    11763  11775.0   \n",
      "5729               Coma                NaN          No    12219  12267.0   \n",
      "5730      MOSF w/Sepsis                NaN          No    11867  11900.0   \n",
      "5731                ARF                NaN          No    12199  12241.0   \n",
      "5732                ARF                NaN          No    12087  12093.0   \n",
      "5733               COPD                NaN          No    11286  11309.0   \n",
      "5734                ARF      MOSF w/Sepsis          No    10928  10935.0   \n",
      "\n",
      "       dthdte  lstctdte death  cardiohx  chfhx  ...    meta  hema  seps  \\\n",
      "0         NaN     11382    No         0      0  ...      No    No    No   \n",
      "1     11844.0     11844   Yes         1      1  ...      No    No   Yes   \n",
      "2         NaN     12400    No         0      0  ...      No    No    No   \n",
      "3     11183.0     11182   Yes         0      0  ...      No    No    No   \n",
      "4     12037.0     12036   Yes         0      0  ...      No    No    No   \n",
      "5         NaN     12590    No         0      1  ...      No    No    No   \n",
      "6         NaN     12616    No         0      0  ...      No    No    No   \n",
      "7     11491.0     11490   Yes         0      0  ...      No    No   Yes   \n",
      "8         NaN     12560    No         0      0  ...      No   Yes    No   \n",
      "9         NaN     11590    No         0      0  ...      No    No    No   \n",
      "10        NaN     11894    No         0      0  ...      No    No    No   \n",
      "11        NaN     12414    No         0      0  ...      No    No    No   \n",
      "12    12191.0     12190   Yes         1      0  ...      No    No    No   \n",
      "13    11496.0     11496   Yes         0      0  ...      No    No    No   \n",
      "14        NaN     12048    No         0      0  ...      No    No    No   \n",
      "15    12404.0     12404   Yes         0      0  ...      No    No    No   \n",
      "16    12680.0     12292   Yes         0      0  ...      No    No    No   \n",
      "17    11217.0     11216   Yes         0      0  ...      No    No   Yes   \n",
      "18        NaN     11232    No         0      0  ...     Yes    No   Yes   \n",
      "19        NaN     12578    No         0      1  ...      No    No    No   \n",
      "20        NaN     11014    No         0      0  ...      No    No   Yes   \n",
      "21    11134.0     11134   Yes         0      0  ...      No    No    No   \n",
      "22    11061.0     11056   Yes         0      1  ...      No    No    No   \n",
      "23        NaN     12492    No         0      0  ...      No    No    No   \n",
      "24    11781.0     11780   Yes         1      1  ...      No    No    No   \n",
      "25        NaN     11462    No         0      0  ...      No    No    No   \n",
      "26    11764.0     11764   Yes         0      0  ...      No    No    No   \n",
      "27    12307.0     12306   Yes         0      0  ...      No   Yes    No   \n",
      "28    12050.0     12050   Yes         0      1  ...      No    No    No   \n",
      "29    12375.0     12374   Yes         0      0  ...      No    No   Yes   \n",
      "...       ...       ...   ...       ...    ...  ...     ...   ...   ...   \n",
      "5705  11834.0     11834   Yes         0      0  ...      No    No    No   \n",
      "5706  12142.0     12142   Yes         0      0  ...      No    No    No   \n",
      "5707  12358.0     12358   Yes         0      0  ...      No    No    No   \n",
      "5708  11172.0     11172   Yes         0      0  ...      No    No    No   \n",
      "5709  11344.0     11344   Yes         0      0  ...      No    No    No   \n",
      "5710  12333.0     12332   Yes         0      1  ...      No    No    No   \n",
      "5711      NaN     12312    No         0      0  ...      No    No    No   \n",
      "5712      NaN     11150    No         0      0  ...      No    No    No   \n",
      "5713  12374.0     12114   Yes         0      0  ...      No    No    No   \n",
      "5714  11963.0     11962   Yes         0      0  ...      No    No    No   \n",
      "5715      NaN     11662    No         0      0  ...      No    No    No   \n",
      "5716  12418.0     12418   Yes         0      0  ...      No    No    No   \n",
      "5717  11721.0     11720   Yes         0      1  ...     Yes    No    No   \n",
      "5718      NaN     12484    No         1      1  ...      No    No    No   \n",
      "5719  11401.0     11400   Yes         0      0  ...      No    No    No   \n",
      "5720  10862.0     10862   Yes         1      1  ...      No    No    No   \n",
      "5721  11435.0     11434   Yes         1      0  ...      No    No    No   \n",
      "5722  10792.0     10792   Yes         0      0  ...      No    No   Yes   \n",
      "5723  10891.0     10890   Yes         0      0  ...      No    No    No   \n",
      "5724  11768.0     11768   Yes         1      0  ...      No    No    No   \n",
      "5725      NaN     11970    No         0      0  ...      No    No   Yes   \n",
      "5726  12537.0     12536   Yes         1      1  ...      No    No    No   \n",
      "5727  11182.0     11182   Yes         0      0  ...      No    No    No   \n",
      "5728  11775.0     11774   Yes         1      1  ...      No    No    No   \n",
      "5729      NaN     12428    No         0      0  ...      No    No    No   \n",
      "5730      NaN     12074    No         1      0  ...      No    No   Yes   \n",
      "5731  12629.0     12628   Yes         0      0  ...      No    No    No   \n",
      "5732  12396.0     12320   Yes         1      0  ...      No    No    No   \n",
      "5733  11309.0     11308   Yes         0      1  ...      No    No    No   \n",
      "5734  10935.0     10934   Yes         0      0  ...      No    No    No   \n",
      "\n",
      "      trauma  ortho  adld3p   urin1   race      income   ptid  \n",
      "0         No     No     0.0     NaN  white  Under $11k      5  \n",
      "1         No     No     NaN  1437.0  white  Under $11k      7  \n",
      "2         No     No     NaN   599.0  white    $25-$50k      9  \n",
      "3         No     No     NaN     NaN  white    $11-$25k     10  \n",
      "4         No     No     NaN    64.0  white  Under $11k     11  \n",
      "5         No     No     0.0   242.0  white  Under $11k     12  \n",
      "6         No     No     NaN  4465.0  white    $25-$50k     13  \n",
      "7         No     No     NaN     NaN  white    $25-$50k     14  \n",
      "8         No     No     NaN  5525.0  white  Under $11k     16  \n",
      "9         No     No     NaN     NaN  white  Under $11k     17  \n",
      "10       Yes     No     NaN  2870.0  white    $25-$50k     19  \n",
      "11        No     No     NaN  1701.0  white    $11-$25k     21  \n",
      "12        No     No     NaN  1190.0  white    $25-$50k     22  \n",
      "13        No     No     0.0     NaN  white    $25-$50k     24  \n",
      "14        No     No     NaN  1490.0  white  Under $11k     25  \n",
      "15        No     No     NaN  2025.0  black  Under $11k     28  \n",
      "16        No     No     NaN  1990.0  white  Under $11k     29  \n",
      "17        No     No     NaN     NaN  white  Under $11k     30  \n",
      "18        No     No     2.0     NaN  black    $11-$25k     31  \n",
      "19        No     No     NaN   395.0  white  Under $11k     32  \n",
      "20        No     No     NaN     NaN  white      > $50k     33  \n",
      "21        No     No     NaN     NaN  white    $25-$50k     35  \n",
      "22        No     No     0.0     NaN  other    $11-$25k     39  \n",
      "23       Yes     No     NaN  2277.0  black  Under $11k     40  \n",
      "24        No     No     2.0     NaN  white  Under $11k     41  \n",
      "25        No     No     0.0     NaN  black  Under $11k     42  \n",
      "26        No     No     NaN     NaN  black  Under $11k     43  \n",
      "27        No     No     NaN  1050.0  white    $11-$25k     44  \n",
      "28        No     No     NaN     NaN  white  Under $11k     45  \n",
      "29        No     No     NaN  2360.0  white  Under $11k     46  \n",
      "...      ...    ...     ...     ...    ...         ...    ...  \n",
      "5705      No     No     NaN   415.0  other  Under $11k  10233  \n",
      "5706      No     No     1.0  2660.0  white    $11-$25k  10234  \n",
      "5707      No     No     NaN     NaN  white    $11-$25k  10235  \n",
      "5708      No     No     NaN     NaN  white    $11-$25k  10239  \n",
      "5709      No     No     NaN     NaN  black      > $50k  10240  \n",
      "5710      No     No     NaN   125.0  black  Under $11k  10242  \n",
      "5711      No     No     NaN  1165.0  white    $11-$25k  10244  \n",
      "5712      No     No     NaN     NaN  black  Under $11k  10245  \n",
      "5713      No     No     NaN  2875.0  white    $11-$25k  10246  \n",
      "5714      No     No     NaN   300.0  white    $11-$25k  10247  \n",
      "5715      No     No     NaN     NaN  white  Under $11k  10249  \n",
      "5716      No     No     NaN  3650.0  white  Under $11k  10251  \n",
      "5717      No     No     0.0     NaN  white  Under $11k  10252  \n",
      "5718      No     No     1.0  3650.0  white    $11-$25k  10253  \n",
      "5719      No     No     NaN     NaN  black  Under $11k  10257  \n",
      "5720      No     No     NaN     NaN  white    $25-$50k  10258  \n",
      "5721      No     No     NaN     NaN  white  Under $11k  10259  \n",
      "5722      No     No     NaN     NaN  white  Under $11k  10260  \n",
      "5723      No     No     NaN     NaN  white      > $50k  10261  \n",
      "5724      No     No     NaN  1023.0  white  Under $11k  10262  \n",
      "5725      No     No     NaN   915.0  white    $11-$25k  10264  \n",
      "5726      No     No     5.0  1850.0  white  Under $11k  10265  \n",
      "5727      No     No     NaN     NaN  white  Under $11k  10267  \n",
      "5728      No     No     0.0  2995.0  white      > $50k  10268  \n",
      "5729      No     No     NaN  1900.0  black  Under $11k  10269  \n",
      "5730      No     No     NaN  1285.0  white  Under $11k  10270  \n",
      "5731      No     No     0.0  1010.0  white  Under $11k  10272  \n",
      "5732      No     No     1.0  4638.0  white  Under $11k  10273  \n",
      "5733      No     No     NaN     NaN  white    $11-$25k  10277  \n",
      "5734      No     No     NaN     NaN  white    $25-$50k  10278  \n",
      "\n",
      "[5735 rows x 62 columns]\n"
     ]
    }
   ],
   "source": [
    "data = pd.read_csv(\"hearth_catheterization.csv\", sep='\\t')\n",
    "print(data)"
   ]
  },
  {
   "cell_type": "code",
   "execution_count": 3,
   "metadata": {},
   "outputs": [
    {
     "name": "stdout",
     "output_type": "stream",
     "text": [
      "keys:  Index(['cat1', 'cat2', 'ca', 'sadmdte', 'dschdte', 'dthdte', 'lstctdte',\n",
      "       'death', 'cardiohx', 'chfhx', 'dementhx', 'psychhx', 'chrpulhx',\n",
      "       'renalhx', 'liverhx', 'gibledhx', 'malighx', 'immunhx', 'transhx',\n",
      "       'amihx', 'age', 'sex', 'edu', 'surv2md1', 'das2d3pc', 't3d30', 'dth30',\n",
      "       'aps1', 'scoma1', 'meanbp1', 'wblc1', 'hrt1', 'resp1', 'temp1', 'pafi1',\n",
      "       'alb1', 'hema1', 'bili1', 'crea1', 'sod1', 'pot1', 'paco21', 'ph1',\n",
      "       'swang1', 'wtkilo1', 'dnr1', 'ninsclas', 'resp', 'card', 'neuro',\n",
      "       'gastr', 'renal', 'meta', 'hema', 'seps', 'trauma', 'ortho', 'adld3p',\n",
      "       'urin1', 'race', 'income', 'ptid'],\n",
      "      dtype='object')\n",
      "# of variables:  62\n",
      "# of observations:  5735\n"
     ]
    }
   ],
   "source": [
    "print('keys: ', data.keys())\n",
    "print('# of variables: ', len(data.keys()))\n",
    "print('# of observations: ', data.shape[0])"
   ]
  },
  {
   "cell_type": "markdown",
   "metadata": {
    "ein.tags": "worksheet-0",
    "slideshow": {
     "slide_type": "-"
    }
   },
   "source": [
    "## 2 Cross-Sectional Estimator\n",
    "\n",
    "Estimate, using linear regression, how is the RHC related to mortality.\n",
    "\n",
    "We start easy: let's just find the relationship between recorded death\n",
    "and rhc.  The important variables are\n",
    "\n",
    "* _death_: patient death recorded/not recorded\n",
    "* _swang1_: rhc performed/not performed\n",
    "\n",
    "This is called \"cross-sectional estimator\", we just compare\n",
    "cross-section of individuals who received and did not receive RHC.\n",
    "\n",
    "Obviously, this is a very crude measure because the hospitals track\n",
    "patients over different time periods, and if contact is lost early,\n",
    "the death may not be recorded.  Another obvious problem is that the\n",
    "patients have very different medical conditions, a factor that\n",
    "most likely plays a role in the decision whether to perform RHC.\n"
   ]
  },
  {
   "cell_type": "code",
   "execution_count": 4,
   "metadata": {
    "collapsed": true
   },
   "outputs": [],
   "source": [
    "# convert to booleans\n",
    "data['death'] = (data['death'] == 'Yes').astype(int)\n",
    "data['swang1'] = (data['swang1'] == 'RHC').astype(int)"
   ]
  },
  {
   "cell_type": "code",
   "execution_count": 5,
   "metadata": {},
   "outputs": [
    {
     "name": "stdout",
     "output_type": "stream",
     "text": [
      "Std. error:  0.0129639822118\n",
      "p value:  9.24152003235e-05\n",
      "r value (correlation):  0.0516036805861\n",
      "Slope (b1):  0.0507211506226\n",
      "Intercept: (b0):  0.62968177978\n"
     ]
    },
    {
     "data": {
      "text/html": [
       "<table class=\"simpletable\">\n",
       "<caption>OLS Regression Results</caption>\n",
       "<tr>\n",
       "  <th>Dep. Variable:</th>          <td>death</td>      <th>  R-squared:         </th> <td>   0.003</td>\n",
       "</tr>\n",
       "<tr>\n",
       "  <th>Model:</th>                   <td>OLS</td>       <th>  Adj. R-squared:    </th> <td>   0.002</td>\n",
       "</tr>\n",
       "<tr>\n",
       "  <th>Method:</th>             <td>Least Squares</td>  <th>  F-statistic:       </th> <td>   15.31</td>\n",
       "</tr>\n",
       "<tr>\n",
       "  <th>Date:</th>             <td>Wed, 31 Jan 2018</td> <th>  Prob (F-statistic):</th> <td>9.24e-05</td>\n",
       "</tr>\n",
       "<tr>\n",
       "  <th>Time:</th>                 <td>23:22:07</td>     <th>  Log-Likelihood:    </th> <td> -3888.1</td>\n",
       "</tr>\n",
       "<tr>\n",
       "  <th>No. Observations:</th>      <td>  5735</td>      <th>  AIC:               </th> <td>   7780.</td>\n",
       "</tr>\n",
       "<tr>\n",
       "  <th>Df Residuals:</th>          <td>  5733</td>      <th>  BIC:               </th> <td>   7794.</td>\n",
       "</tr>\n",
       "<tr>\n",
       "  <th>Df Model:</th>              <td>     1</td>      <th>                     </th>     <td> </td>   \n",
       "</tr>\n",
       "<tr>\n",
       "  <th>Covariance Type:</th>      <td>nonrobust</td>    <th>                     </th>     <td> </td>   \n",
       "</tr>\n",
       "</table>\n",
       "<table class=\"simpletable\">\n",
       "<tr>\n",
       "     <td></td>       <th>coef</th>     <th>std err</th>      <th>t</th>      <th>P>|t|</th>  <th>[0.025</th>    <th>0.975]</th>  \n",
       "</tr>\n",
       "<tr>\n",
       "  <th>const</th>  <td>    0.6297</td> <td>    0.008</td> <td>   78.709</td> <td> 0.000</td> <td>    0.614</td> <td>    0.645</td>\n",
       "</tr>\n",
       "<tr>\n",
       "  <th>swang1</th> <td>    0.0507</td> <td>    0.013</td> <td>    3.912</td> <td> 0.000</td> <td>    0.025</td> <td>    0.076</td>\n",
       "</tr>\n",
       "</table>\n",
       "<table class=\"simpletable\">\n",
       "<tr>\n",
       "  <th>Omnibus:</th>       <td>315.261</td> <th>  Durbin-Watson:     </th> <td>   1.996</td> \n",
       "</tr>\n",
       "<tr>\n",
       "  <th>Prob(Omnibus):</th> <td> 0.000</td>  <th>  Jarque-Bera (JB):  </th> <td> 982.605</td> \n",
       "</tr>\n",
       "<tr>\n",
       "  <th>Skew:</th>          <td>-0.622</td>  <th>  Prob(JB):          </th> <td>4.27e-214</td>\n",
       "</tr>\n",
       "<tr>\n",
       "  <th>Kurtosis:</th>      <td> 1.398</td>  <th>  Cond. No.          </th> <td>    2.43</td> \n",
       "</tr>\n",
       "</table>"
      ],
      "text/plain": [
       "<class 'statsmodels.iolib.summary.Summary'>\n",
       "\"\"\"\n",
       "                            OLS Regression Results                            \n",
       "==============================================================================\n",
       "Dep. Variable:                  death   R-squared:                       0.003\n",
       "Model:                            OLS   Adj. R-squared:                  0.002\n",
       "Method:                 Least Squares   F-statistic:                     15.31\n",
       "Date:                Wed, 31 Jan 2018   Prob (F-statistic):           9.24e-05\n",
       "Time:                        23:22:07   Log-Likelihood:                -3888.1\n",
       "No. Observations:                5735   AIC:                             7780.\n",
       "Df Residuals:                    5733   BIC:                             7794.\n",
       "Df Model:                           1                                         \n",
       "Covariance Type:            nonrobust                                         \n",
       "==============================================================================\n",
       "                 coef    std err          t      P>|t|      [0.025      0.975]\n",
       "------------------------------------------------------------------------------\n",
       "const          0.6297      0.008     78.709      0.000       0.614       0.645\n",
       "swang1         0.0507      0.013      3.912      0.000       0.025       0.076\n",
       "==============================================================================\n",
       "Omnibus:                      315.261   Durbin-Watson:                   1.996\n",
       "Prob(Omnibus):                  0.000   Jarque-Bera (JB):              982.605\n",
       "Skew:                          -0.622   Prob(JB):                    4.27e-214\n",
       "Kurtosis:                       1.398   Cond. No.                         2.43\n",
       "==============================================================================\n",
       "\n",
       "Warnings:\n",
       "[1] Standard Errors assume that the covariance matrix of the errors is correctly specified.\n",
       "\"\"\""
      ]
     },
     "execution_count": 5,
     "metadata": {},
     "output_type": "execute_result"
    }
   ],
   "source": [
    "x = data['swang1'].as_matrix() # x = rhc\n",
    "y = data['death'].as_matrix() # y = death\n",
    "\n",
    "# First Method\n",
    "slope, intercept, r_value, p_value, std_err = st.linregress(x, y)\n",
    "print('Std. error: ', std_err) # Standard error of the estimated gradient\n",
    "print('p value: ', p_value) # two-sided p-value for a hypothesis test whose null hypothesis is that the slope is zero\n",
    "print('r value (correlation): ', r_value) # correlation coefficient\n",
    "print('Slope (b1): ', slope) # slope of the regression line\n",
    "print('Intercept: (b0): ', intercept) # intercept of the regression line\n",
    "\n",
    "# Second Method\n",
    "y = data['death']\n",
    "x = data['swang1']\n",
    "model = sm.OLS(y, sm.add_constant(x)).fit()\n",
    "model.summary()"
   ]
  },
  {
   "cell_type": "markdown",
   "metadata": {
    "ein.tags": "worksheet-0",
    "slideshow": {
     "slide_type": "-"
    }
   },
   "source": [
    "Comment your results.\n",
    "\n",
    "RHC seems to be associated with 5% larger probability of death.  The\n",
    "association is highly significant (t=3.9)"
   ]
  },
  {
   "cell_type": "code",
   "execution_count": 6,
   "metadata": {
    "collapsed": true
   },
   "outputs": [],
   "source": [
    "# We compare the p-value to alpha, which we will let alpha be 0.05.\n",
    "# Since the p value (9.24152003235e-05) is less than 0.05, we reject the null hypothesis\n",
    "# that there is no significant correlation in favor of the alternative hypothesis.\n",
    "# Therefore, the correlation between death and RHC is significant.\n",
    "# Because slope is positive (0.0507211506226), the relationship is positive. Meaning that\n",
    "# having RHC corresponds with more death."
   ]
  },
  {
   "cell_type": "markdown",
   "metadata": {
    "ein.tags": "worksheet-0",
    "slideshow": {
     "slide_type": "-"
    }
   },
   "source": [
    "## 3 Address some of the issues\n",
    "\n",
    "Now let's try to address some of the issues with the estimator above.\n",
    "The dataset includes many other patient descriptors.\n"
   ]
  },
  {
   "cell_type": "markdown",
   "metadata": {
    "ein.tags": "worksheet-0",
    "slideshow": {
     "slide_type": "-"
    }
   },
   "source": [
    "### 3.1 Let's include 'age' and 'sex'.\n",
    "How are these coded?"
   ]
  },
  {
   "cell_type": "code",
   "execution_count": 7,
   "metadata": {
    "scrolled": true
   },
   "outputs": [
    {
     "data": {
      "text/plain": [
       "0         Male\n",
       "1       Female\n",
       "2       Female\n",
       "3       Female\n",
       "4         Male\n",
       "5       Female\n",
       "6         Male\n",
       "7         Male\n",
       "8       Female\n",
       "9       Female\n",
       "10        Male\n",
       "11        Male\n",
       "12        Male\n",
       "13      Female\n",
       "14        Male\n",
       "15        Male\n",
       "16        Male\n",
       "17      Female\n",
       "18        Male\n",
       "19        Male\n",
       "20        Male\n",
       "21      Female\n",
       "22        Male\n",
       "23        Male\n",
       "24        Male\n",
       "25      Female\n",
       "26        Male\n",
       "27      Female\n",
       "28        Male\n",
       "29        Male\n",
       "         ...  \n",
       "5705    Female\n",
       "5706      Male\n",
       "5707      Male\n",
       "5708      Male\n",
       "5709    Female\n",
       "5710    Female\n",
       "5711    Female\n",
       "5712      Male\n",
       "5713    Female\n",
       "5714      Male\n",
       "5715    Female\n",
       "5716      Male\n",
       "5717      Male\n",
       "5718    Female\n",
       "5719      Male\n",
       "5720    Female\n",
       "5721      Male\n",
       "5722    Female\n",
       "5723      Male\n",
       "5724    Female\n",
       "5725    Female\n",
       "5726    Female\n",
       "5727      Male\n",
       "5728      Male\n",
       "5729      Male\n",
       "5730      Male\n",
       "5731    Female\n",
       "5732      Male\n",
       "5733      Male\n",
       "5734    Female\n",
       "Name: sex, Length: 5735, dtype: object"
      ]
     },
     "execution_count": 7,
     "metadata": {},
     "output_type": "execute_result"
    }
   ],
   "source": [
    "data['age'] # Floats: e.g. 70.250977\n",
    "data['sex'] # Strings: \"Male\", \"Female\""
   ]
  },
  {
   "cell_type": "markdown",
   "metadata": {
    "ein.tags": "worksheet-0",
    "slideshow": {
     "slide_type": "-"
    }
   },
   "source": [
    "What do you find?\n",
    "\n",
    "We see age is numeric and sex is 'Female'/'Male'."
   ]
  },
  {
   "cell_type": "markdown",
   "metadata": {
    "ein.tags": "worksheet-0",
    "slideshow": {
     "slide_type": "-"
    }
   },
   "source": [
    "### 3.2 Include age and sex in the regression\n",
    "\n",
    "Now allow the death to depend on gender and age, on top of that it may\n",
    "depend on rhc.  Note that it may not just depend on age in a linear\n",
    "fashion but in a much more complex way, so include not just $age$ but\n",
    "also $age^2$ and $age^3$ as explanatory variables."
   ]
  },
  {
   "cell_type": "code",
   "execution_count": 8,
   "metadata": {
    "collapsed": true
   },
   "outputs": [],
   "source": [
    "# convert sex to booleans\n",
    "data['sex'] = (data['sex'] == 'Male').astype(int)"
   ]
  },
  {
   "cell_type": "code",
   "execution_count": 9,
   "metadata": {},
   "outputs": [
    {
     "data": {
      "text/html": [
       "<table class=\"simpletable\">\n",
       "<caption>OLS Regression Results</caption>\n",
       "<tr>\n",
       "  <th>Dep. Variable:</th>          <td>death</td>      <th>  R-squared:         </th> <td>   0.050</td>\n",
       "</tr>\n",
       "<tr>\n",
       "  <th>Model:</th>                   <td>OLS</td>       <th>  Adj. R-squared:    </th> <td>   0.050</td>\n",
       "</tr>\n",
       "<tr>\n",
       "  <th>Method:</th>             <td>Least Squares</td>  <th>  F-statistic:       </th> <td>   60.92</td>\n",
       "</tr>\n",
       "<tr>\n",
       "  <th>Date:</th>             <td>Wed, 31 Jan 2018</td> <th>  Prob (F-statistic):</th> <td>4.72e-62</td>\n",
       "</tr>\n",
       "<tr>\n",
       "  <th>Time:</th>                 <td>23:22:10</td>     <th>  Log-Likelihood:    </th> <td> -3747.2</td>\n",
       "</tr>\n",
       "<tr>\n",
       "  <th>No. Observations:</th>      <td>  5735</td>      <th>  AIC:               </th> <td>   7506.</td>\n",
       "</tr>\n",
       "<tr>\n",
       "  <th>Df Residuals:</th>          <td>  5729</td>      <th>  BIC:               </th> <td>   7546.</td>\n",
       "</tr>\n",
       "<tr>\n",
       "  <th>Df Model:</th>              <td>     5</td>      <th>                     </th>     <td> </td>   \n",
       "</tr>\n",
       "<tr>\n",
       "  <th>Covariance Type:</th>      <td>nonrobust</td>    <th>                     </th>     <td> </td>   \n",
       "</tr>\n",
       "</table>\n",
       "<table class=\"simpletable\">\n",
       "<tr>\n",
       "     <td></td>       <th>coef</th>     <th>std err</th>      <th>t</th>      <th>P>|t|</th>  <th>[0.025</th>    <th>0.975]</th>  \n",
       "</tr>\n",
       "<tr>\n",
       "  <th>const</th>  <td>    0.1185</td> <td>    0.151</td> <td>    0.786</td> <td> 0.432</td> <td>   -0.177</td> <td>    0.414</td>\n",
       "</tr>\n",
       "<tr>\n",
       "  <th>age</th>    <td>    0.0117</td> <td>    0.009</td> <td>    1.324</td> <td> 0.186</td> <td>   -0.006</td> <td>    0.029</td>\n",
       "</tr>\n",
       "<tr>\n",
       "  <th>age2</th>   <td>-7.451e-05</td> <td>    0.000</td> <td>   -0.463</td> <td> 0.644</td> <td>   -0.000</td> <td>    0.000</td>\n",
       "</tr>\n",
       "<tr>\n",
       "  <th>age3</th>   <td> 2.964e-07</td> <td> 9.33e-07</td> <td>    0.318</td> <td> 0.751</td> <td>-1.53e-06</td> <td> 2.12e-06</td>\n",
       "</tr>\n",
       "<tr>\n",
       "  <th>sex</th>    <td>    0.0230</td> <td>    0.012</td> <td>    1.854</td> <td> 0.064</td> <td>   -0.001</td> <td>    0.047</td>\n",
       "</tr>\n",
       "<tr>\n",
       "  <th>swang1</th> <td>    0.0546</td> <td>    0.013</td> <td>    4.291</td> <td> 0.000</td> <td>    0.030</td> <td>    0.080</td>\n",
       "</tr>\n",
       "</table>\n",
       "<table class=\"simpletable\">\n",
       "<tr>\n",
       "  <th>Omnibus:</th>       <td>288.479</td> <th>  Durbin-Watson:     </th> <td>   1.999</td> \n",
       "</tr>\n",
       "<tr>\n",
       "  <th>Prob(Omnibus):</th> <td> 0.000</td>  <th>  Jarque-Bera (JB):  </th> <td> 818.571</td> \n",
       "</tr>\n",
       "<tr>\n",
       "  <th>Skew:</th>          <td>-0.591</td>  <th>  Prob(JB):          </th> <td>1.78e-178</td>\n",
       "</tr>\n",
       "<tr>\n",
       "  <th>Kurtosis:</th>      <td> 1.575</td>  <th>  Cond. No.          </th> <td>8.26e+06</td> \n",
       "</tr>\n",
       "</table>"
      ],
      "text/plain": [
       "<class 'statsmodels.iolib.summary.Summary'>\n",
       "\"\"\"\n",
       "                            OLS Regression Results                            \n",
       "==============================================================================\n",
       "Dep. Variable:                  death   R-squared:                       0.050\n",
       "Model:                            OLS   Adj. R-squared:                  0.050\n",
       "Method:                 Least Squares   F-statistic:                     60.92\n",
       "Date:                Wed, 31 Jan 2018   Prob (F-statistic):           4.72e-62\n",
       "Time:                        23:22:10   Log-Likelihood:                -3747.2\n",
       "No. Observations:                5735   AIC:                             7506.\n",
       "Df Residuals:                    5729   BIC:                             7546.\n",
       "Df Model:                           5                                         \n",
       "Covariance Type:            nonrobust                                         \n",
       "==============================================================================\n",
       "                 coef    std err          t      P>|t|      [0.025      0.975]\n",
       "------------------------------------------------------------------------------\n",
       "const          0.1185      0.151      0.786      0.432      -0.177       0.414\n",
       "age            0.0117      0.009      1.324      0.186      -0.006       0.029\n",
       "age2       -7.451e-05      0.000     -0.463      0.644      -0.000       0.000\n",
       "age3        2.964e-07   9.33e-07      0.318      0.751   -1.53e-06    2.12e-06\n",
       "sex            0.0230      0.012      1.854      0.064      -0.001       0.047\n",
       "swang1         0.0546      0.013      4.291      0.000       0.030       0.080\n",
       "==============================================================================\n",
       "Omnibus:                      288.479   Durbin-Watson:                   1.999\n",
       "Prob(Omnibus):                  0.000   Jarque-Bera (JB):              818.571\n",
       "Skew:                          -0.591   Prob(JB):                    1.78e-178\n",
       "Kurtosis:                       1.575   Cond. No.                     8.26e+06\n",
       "==============================================================================\n",
       "\n",
       "Warnings:\n",
       "[1] Standard Errors assume that the covariance matrix of the errors is correctly specified.\n",
       "[2] The condition number is large, 8.26e+06. This might indicate that there are\n",
       "strong multicollinearity or other numerical problems.\n",
       "\"\"\""
      ]
     },
     "execution_count": 9,
     "metadata": {},
     "output_type": "execute_result"
    }
   ],
   "source": [
    "# does death depend on sex and age?\n",
    "y = data['death']\n",
    "\n",
    "# explanatory variables\n",
    "data = data.assign(age2 = data['age'] ** 2)\n",
    "data = data.assign(age3 = data['age'] ** 3)\n",
    "x = data[['age', 'age2', 'age3','sex', 'swang1']]\n",
    "model = sm.OLS(y, sm.add_constant(x)).fit()\n",
    "model.summary()\n"
   ]
  },
  {
   "cell_type": "markdown",
   "metadata": {
    "ein.tags": "worksheet-0",
    "slideshow": {
     "slide_type": "-"
    }
   },
   "source": [
    "Comment your results\n",
    "\n",
    "Seems like the association between treatment and rhc is not much\n",
    "affect, if anything, it got larger."
   ]
  },
  {
   "cell_type": "code",
   "execution_count": 10,
   "metadata": {
    "collapsed": true
   },
   "outputs": [],
   "source": [
    "# t is 4.291, which is larger than previous association of just death and rhc"
   ]
  },
  {
   "cell_type": "markdown",
   "metadata": {
    "ein.tags": "worksheet-0",
    "slideshow": {
     "slide_type": "-"
    }
   },
   "source": [
    "## 4 Design matrices of the models\n",
    "\n",
    "Each linear model (and many other models) have associated _design\n",
    "matrices_.  Design matrix is the matrix of all your explanatory\n",
    "variables (all x-s) in the final numeric matrix form.  This includes\n",
    "* adding a constant column\n",
    "* converting categorical/non-numeric variables into suitable numeric\n",
    "variables\n",
    "\n",
    "You next task is to create/extract the design matrices of both of the\n",
    "models above, investigate their numeric properties (condition\n",
    "numbers), and solve the linear regression problem in matrix form.\n",
    "\n",
    "We did not have time in the class to talk about it, but there is a\n",
    "closed-form solution for the linear regression problem:  beta =\n",
    "$(X'X)^{-1} X'y$.  Compute this solution and compare with the regression\n",
    "package output above.\n",
    "\n",
    "\n",
    "### 4.1 First model\n",
    "\n",
    "#### 4.1.1 create the design matrix of it, X.\n",
    "\n",
    "Depending on the way you solved your problem, you may already have\n",
    "created it.  Depending on the way you solved the problem above, you\n",
    "may be able to extract it from the existing model.  You may also redo it\n",
    "manually here.  Remember:\n",
    "* include the constant term!\n",
    "* design matrix must be a _matrix_, not data frame or something else."
   ]
  },
  {
   "cell_type": "code",
   "execution_count": 17,
   "metadata": {},
   "outputs": [
    {
     "data": {
      "text/plain": [
       "array([[ 1.,  0.],\n",
       "       [ 1.,  1.],\n",
       "       [ 1.,  1.],\n",
       "       ..., \n",
       "       [ 1.,  0.],\n",
       "       [ 1.,  0.],\n",
       "       [ 1.,  0.]])"
      ]
     },
     "execution_count": 17,
     "metadata": {},
     "output_type": "execute_result"
    }
   ],
   "source": [
    "d = data[['swang1']]\n",
    "X = sm.add_constant(d).as_matrix()\n",
    "X"
   ]
  },
  {
   "cell_type": "markdown",
   "metadata": {
    "ein.tags": "worksheet-0",
    "slideshow": {
     "slide_type": "-"
    }
   },
   "source": [
    "#### 4.1.2 Compute the condition number of X`X.\n",
    "\n",
    "You may choose whatever definition you like, but please report what\n",
    "are you using."
   ]
  },
  {
   "cell_type": "code",
   "execution_count": 18,
   "metadata": {},
   "outputs": [
    {
     "name": "stdout",
     "output_type": "stream",
     "text": [
      "condition #:  5.91706511753\n"
     ]
    }
   ],
   "source": [
    "XX = np.matmul(X.T, X)\n",
    "\n",
    "condition = np.linalg.cond(XX)\n",
    "print('condition #: ', condition)# 5.91706511753"
   ]
  },
  {
   "cell_type": "markdown",
   "metadata": {
    "ein.tags": "worksheet-0",
    "slideshow": {
     "slide_type": "-"
    }
   },
   "source": [
    "#### 4.1.3 Compute your regression coefficients using the formula above.\n",
    "\n",
    "Note: you also need your outcome variable $y$ in numeric matrix\n",
    "form. "
   ]
  },
  {
   "cell_type": "code",
   "execution_count": 28,
   "metadata": {},
   "outputs": [
    {
     "data": {
      "text/plain": [
       "array([[  1.18546603e-01],\n",
       "       [  1.16526175e-02],\n",
       "       [ -7.45104137e-05],\n",
       "       [  2.96365651e-07],\n",
       "       [  2.30153708e-02],\n",
       "       [  5.46474537e-02]])"
      ]
     },
     "execution_count": 28,
     "metadata": {},
     "output_type": "execute_result"
    }
   ],
   "source": [
    "y = data[['death']].as_matrix()\n",
    "beta = np.matmul(np.linalg.inv(XX),X.T)\n",
    "beta = np.matmul(beta, y)\n",
    "beta # column vector"
   ]
  },
  {
   "cell_type": "markdown",
   "metadata": {
    "ein.tags": "worksheet-0",
    "slideshow": {
     "slide_type": "-"
    }
   },
   "source": [
    "#### 4.1.4 Compare your coefficients here with the OLS results above."
   ]
  },
  {
   "cell_type": "code",
   "execution_count": null,
   "metadata": {
    "collapsed": true
   },
   "outputs": [],
   "source": [
    "# They are the same."
   ]
  },
  {
   "cell_type": "markdown",
   "metadata": {
    "ein.tags": "worksheet-0",
    "slideshow": {
     "slide_type": "-"
    }
   },
   "source": [
    "### 4.2 Second Model\n",
    "\n",
    "Repeat the previous steps 1..4 for the second model, involving $age$,\n",
    "$age^2$, and $age^3$."
   ]
  },
  {
   "cell_type": "code",
   "execution_count": 19,
   "metadata": {},
   "outputs": [
    {
     "data": {
      "text/plain": [
       "array([[  1.00000000e+00,   7.02509766e+01,   4.93519971e+03,\n",
       "          3.46702600e+05,   1.00000000e+00,   0.00000000e+00],\n",
       "       [  1.00000000e+00,   7.81789551e+01,   6.11194902e+03,\n",
       "          4.77825788e+05,   0.00000000e+00,   1.00000000e+00],\n",
       "       [  1.00000000e+00,   4.60919800e+01,   2.12447062e+03,\n",
       "          9.79210573e+04,   0.00000000e+00,   1.00000000e+00],\n",
       "       ..., \n",
       "       [  1.00000000e+00,   8.04849854e+01,   6.47783287e+03,\n",
       "          5.21368284e+05,   1.00000000e+00,   0.00000000e+00],\n",
       "       [  1.00000000e+00,   6.73789673e+01,   4.53992523e+03,\n",
       "          3.05895474e+05,   1.00000000e+00,   0.00000000e+00],\n",
       "       [  1.00000000e+00,   5.46639709e+01,   2.98814971e+03,\n",
       "          1.63344129e+05,   0.00000000e+00,   0.00000000e+00]])"
      ]
     },
     "execution_count": 19,
     "metadata": {},
     "output_type": "execute_result"
    }
   ],
   "source": [
    "d = data[['age', 'age2', 'age3','sex', 'swang1']]\n",
    "X = sm.add_constant(d).as_matrix()\n",
    "X"
   ]
  },
  {
   "cell_type": "code",
   "execution_count": 20,
   "metadata": {},
   "outputs": [
    {
     "name": "stdout",
     "output_type": "stream",
     "text": [
      "condition #:  6.81925770479e+13\n"
     ]
    }
   ],
   "source": [
    "XX = np.matmul(X.T, X)\n",
    "\n",
    "condition = np.linalg.cond(XX)\n",
    "print('condition #: ', condition) # 6.81925770479e+13"
   ]
  },
  {
   "cell_type": "markdown",
   "metadata": {
    "ein.tags": "worksheet-0",
    "slideshow": {
     "slide_type": "-"
    }
   },
   "source": [
    "Compare the results with the regression output.  Comment the condition\n",
    "numbers you got.\n",
    "\n",
    "The coefficients are the same.  One can see that the condition number\n",
    "is enormous, so there may be numeric problems.\n"
   ]
  },
  {
   "cell_type": "code",
   "execution_count": null,
   "metadata": {
    "collapsed": true
   },
   "outputs": [],
   "source": []
  }
 ],
 "metadata": {
  "kernelspec": {
   "display_name": "Python 3",
   "language": "python",
   "name": "python3"
  },
  "language_info": {
   "codemirror_mode": {
    "name": "ipython",
    "version": 3
   },
   "file_extension": ".py",
   "mimetype": "text/x-python",
   "name": "python",
   "nbconvert_exporter": "python",
   "pygments_lexer": "ipython3",
   "version": "3.6.3"
  },
  "name": "lab04_ols_causality_complete.ipynb"
 },
 "nbformat": 4,
 "nbformat_minor": 2
}
