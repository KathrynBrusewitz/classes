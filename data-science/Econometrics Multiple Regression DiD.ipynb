{
 "cells": [
  {
   "cell_type": "markdown",
   "metadata": {
    "ein.tags": "worksheet-0",
    "slideshow": {
     "slide_type": "-"
    }
   },
   "source": [
    "# Problem Set 3, due Feb 12 at 10:30am."
   ]
  },
  {
   "cell_type": "code",
   "execution_count": 60,
   "metadata": {},
   "outputs": [
    {
     "name": "stdout",
     "output_type": "stream",
     "text": [
      "Numpy version:        1.13.3\n",
      "SciPy version:        0.19.1\n",
      "Pandas version:       0.20.3\n",
      "Maplotlib version:     2.1.0\n",
      "Scikit-Learn version: 0.19.1\n"
     ]
    }
   ],
   "source": [
    "# Numpy is a library for working with Arrays\n",
    "import numpy as np\n",
    "print(\"Numpy version:        %6.6s\" % np.__version__)\n",
    "\n",
    "# SciPy implements many different numerical algorithms\n",
    "import scipy as sp\n",
    "print(\"SciPy version:        %6.6s\" % sp.__version__)\n",
    "import scipy.stats as st\n",
    "\n",
    "# Pandas makes working with data tables easier\n",
    "import pandas as pd\n",
    "print(\"Pandas version:       %6.6s\" % pd.__version__)\n",
    "\n",
    "# Module for plotting\n",
    "import matplotlib \n",
    "print(\"Maplotlib version:    %6.6s\" % matplotlib.__version__)\n",
    "%matplotlib inline\n",
    "# needed for inline plots in notebooks\n",
    "import matplotlib.pyplot as plt  \n",
    "\n",
    "# SciKit Learn implements several Machine Learning algorithms\n",
    "import sklearn\n",
    "print(\"Scikit-Learn version: %6.6s\" % sklearn.__version__)\n",
    "import statsmodels.formula.api as smf\n",
    "import statsmodels.api as sm"
   ]
  },
  {
   "cell_type": "markdown",
   "metadata": {
    "ein.tags": "worksheet-0",
    "slideshow": {
     "slide_type": "-"
    }
   },
   "source": [
    "## Introduction to the assignment\n",
    "\n",
    "For this assignment, you will be using data from the [Progresa\n",
    "program](http://en.wikipedia.org/wiki/Oportunidades), a government\n",
    "social assistance program in Mexico. This program, as well as the\n",
    "details of its impact, are described in the paper \"[School subsidies\n",
    "for the poor: evaluating the Mexican Progresa poverty\n",
    "program](http://www.sciencedirect.com/science/article/pii/S0304387803001858)\",\n",
    "by Paul Shultz (available on Canvas).  The data\n",
    "(progresa_sample.csv.gz) is available on canvas\n",
    "in files/data.\n",
    "\n",
    "Please read the paper to familiarize yourself with\n",
    "the PROGRESA program before beginning this problem set, so you have a\n",
    "rough sense of where the data come from and how they were\n",
    "generated. If you just proceed into the problem set without\n",
    "understanding Progresa or the data, it will be very difficult!\n",
    "\n",
    "The goal of this problem set is to implement some of the basic\n",
    "econometric techniques that you are learning in class to measure the\n",
    "impact of Progresa on secondary school enrollment rates. The timeline\n",
    "of the program was:\n",
    "\n",
    " * Baseline survey conducted in 1997\n",
    " * Intervention begins in 1998, \"Wave 1\" of data collected in 1998\n",
    " * \"Wave 2 of data\" collected in 1999\n",
    " * Evaluation ends in 2000, at which point the control villages were treated. \n",
    " \n",
    "When you are ready, download the progresa_sample.csv data from\n",
    "Canvas. The data are actual data collected to evaluate the impact of\n",
    "the Progresa program.  In this file, each row corresponds to an\n",
    "observation taken for a given child for a given year. There are two\n",
    "years of data (1997 and 1998), and just under 40,000 children who are\n",
    "surveyed in both years.  For each child-year observation, the\n",
    "following variables are collected:\n",
    "\n",
    "| Variable name | Description|\n",
    "|------|------|\n",
    "|year\t  |year in which data is collected\n",
    "|sex\t  |male = 1|\n",
    "|indig\t  |indigenous = 1|\n",
    "|dist_sec |nearest distance to a secondary school|\n",
    "|sc\t      |enrolled in school in year of survey|\n",
    "|grc      |grade enrolled|\n",
    "|fam_n    |family size|\n",
    "|min_dist |\tmin distance to an urban center|\n",
    "|dist_cap |\tmin distance to the capital|\n",
    "|poor     |\tpoor = \"pobre\"|\n",
    "|progresa |treatment = \"basal\"|\n",
    "|hohedu\t  |years of schooling of head of household|\n",
    "|hohwag\t  |monthly wages of head of household|\n",
    "|welfare_index|\twelfare index used to classify poor|\n",
    "|hohsex\t|gender of head of household (male=1)|\n",
    "|hohage\t|age of head of household|\n",
    "|age\t|years old|\n",
    "|folnum\t|individual id|\n",
    "|village|\tvillage id|\n",
    "|sc97\t|schooling in 1997|\n"
   ]
  },
  {
   "cell_type": "markdown",
   "metadata": {
    "ein.tags": "worksheet-0",
    "slideshow": {
     "slide_type": "-"
    }
   },
   "source": [
    "## Part 1: Descriptive analysis\n",
    "\n",
    "### 1.1\tSummary Statistics\n",
    "\n",
    "Report summary statistics (mean, standard deviation, and number of missings) for all of\n",
    "the demographic variables in the dataset (i.e., everything except\n",
    "year, folnum, village).  Present the actual levels for 'progresa' and\n",
    "'poor'.  Do these fit with the documentation above?\n",
    "\n",
    "Present these in a single table alphabetized\n",
    "by variable name. Do NOT simply expect the grader to scroll through\n",
    "your output!"
   ]
  },
  {
   "cell_type": "code",
   "execution_count": 61,
   "metadata": {
    "autoscroll": false,
    "ein.tags": "worksheet-0",
    "scrolled": false,
    "slideshow": {
     "slide_type": "-"
    }
   },
   "outputs": [],
   "source": [
    "# Load in data\n",
    "df = pd.DataFrame.from_csv('progresa_sample.csv', header=0, index_col=None)\n",
    "# Convert progresa and poor columns to booleans 0 and 1\n",
    "df['progresa'] = (df['progresa'] == 'basal').astype(int)\n",
    "df['poor'] = (df['poor'] == 'pobre').astype(int)"
   ]
  },
  {
   "cell_type": "code",
   "execution_count": 62,
   "metadata": {},
   "outputs": [],
   "source": [
    "# Mean\n",
    "means = df[['sex', 'indig', 'dist_sec', 'sc', 'grc', 'fam_n', 'min_dist', 'dist_cap', 'poor', 'progresa', 'hohedu', 'welfare_index', 'hohsex', 'hohage', 'age', 'sc97']].mean()\n",
    "\n",
    "# Standard deviation\n",
    "std = df[['sex', 'indig', 'dist_sec', 'sc', 'grc', 'fam_n', 'min_dist', 'dist_cap', 'poor', 'progresa', 'hohedu', 'welfare_index', 'hohsex', 'hohage', 'age', 'sc97']].std()\n",
    "\n",
    "# Number of missing\n",
    "missing = df[['sex', 'indig', 'dist_sec', 'sc', 'grc', 'fam_n', 'min_dist', 'dist_cap', 'poor', 'progresa', 'hohedu', 'welfare_index', 'hohsex', 'hohage', 'age', 'sc97']].isnull().sum()"
   ]
  },
  {
   "cell_type": "code",
   "execution_count": 63,
   "metadata": {},
   "outputs": [
    {
     "data": {
      "text/html": [
       "<div>\n",
       "<style>\n",
       "    .dataframe thead tr:only-child th {\n",
       "        text-align: right;\n",
       "    }\n",
       "\n",
       "    .dataframe thead th {\n",
       "        text-align: left;\n",
       "    }\n",
       "\n",
       "    .dataframe tbody tr th {\n",
       "        vertical-align: top;\n",
       "    }\n",
       "</style>\n",
       "<table border=\"1\" class=\"dataframe\">\n",
       "  <thead>\n",
       "    <tr style=\"text-align: right;\">\n",
       "      <th></th>\n",
       "      <th>mean</th>\n",
       "      <th>missing</th>\n",
       "      <th>std</th>\n",
       "    </tr>\n",
       "  </thead>\n",
       "  <tbody>\n",
       "    <tr>\n",
       "      <th>sex</th>\n",
       "      <td>0.512211</td>\n",
       "      <td>24</td>\n",
       "      <td>0.499854</td>\n",
       "    </tr>\n",
       "    <tr>\n",
       "      <th>indig</th>\n",
       "      <td>0.298324</td>\n",
       "      <td>300</td>\n",
       "      <td>0.457525</td>\n",
       "    </tr>\n",
       "    <tr>\n",
       "      <th>dist_sec</th>\n",
       "      <td>2.418910</td>\n",
       "      <td>0</td>\n",
       "      <td>2.234109</td>\n",
       "    </tr>\n",
       "    <tr>\n",
       "      <th>sc</th>\n",
       "      <td>0.819818</td>\n",
       "      <td>8453</td>\n",
       "      <td>0.384342</td>\n",
       "    </tr>\n",
       "    <tr>\n",
       "      <th>grc</th>\n",
       "      <td>3.963537</td>\n",
       "      <td>6549</td>\n",
       "      <td>2.499063</td>\n",
       "    </tr>\n",
       "    <tr>\n",
       "      <th>fam_n</th>\n",
       "      <td>7.215715</td>\n",
       "      <td>0</td>\n",
       "      <td>2.352900</td>\n",
       "    </tr>\n",
       "    <tr>\n",
       "      <th>min_dist</th>\n",
       "      <td>103.447520</td>\n",
       "      <td>0</td>\n",
       "      <td>42.089441</td>\n",
       "    </tr>\n",
       "    <tr>\n",
       "      <th>dist_cap</th>\n",
       "      <td>147.674452</td>\n",
       "      <td>0</td>\n",
       "      <td>76.063134</td>\n",
       "    </tr>\n",
       "    <tr>\n",
       "      <th>poor</th>\n",
       "      <td>0.846498</td>\n",
       "      <td>0</td>\n",
       "      <td>0.360473</td>\n",
       "    </tr>\n",
       "    <tr>\n",
       "      <th>progresa</th>\n",
       "      <td>0.615663</td>\n",
       "      <td>0</td>\n",
       "      <td>0.486441</td>\n",
       "    </tr>\n",
       "    <tr>\n",
       "      <th>hohedu</th>\n",
       "      <td>2.768104</td>\n",
       "      <td>0</td>\n",
       "      <td>2.656106</td>\n",
       "    </tr>\n",
       "    <tr>\n",
       "      <th>welfare_index</th>\n",
       "      <td>690.346564</td>\n",
       "      <td>210</td>\n",
       "      <td>139.491130</td>\n",
       "    </tr>\n",
       "    <tr>\n",
       "      <th>hohsex</th>\n",
       "      <td>0.925185</td>\n",
       "      <td>20</td>\n",
       "      <td>0.263095</td>\n",
       "    </tr>\n",
       "    <tr>\n",
       "      <th>hohage</th>\n",
       "      <td>44.436717</td>\n",
       "      <td>10</td>\n",
       "      <td>11.620372</td>\n",
       "    </tr>\n",
       "    <tr>\n",
       "      <th>age</th>\n",
       "      <td>11.366460</td>\n",
       "      <td>0</td>\n",
       "      <td>3.167744</td>\n",
       "    </tr>\n",
       "    <tr>\n",
       "      <th>sc97</th>\n",
       "      <td>0.813922</td>\n",
       "      <td>3872</td>\n",
       "      <td>0.389172</td>\n",
       "    </tr>\n",
       "  </tbody>\n",
       "</table>\n",
       "</div>"
      ],
      "text/plain": [
       "                     mean  missing         std\n",
       "sex              0.512211       24    0.499854\n",
       "indig            0.298324      300    0.457525\n",
       "dist_sec         2.418910        0    2.234109\n",
       "sc               0.819818     8453    0.384342\n",
       "grc              3.963537     6549    2.499063\n",
       "fam_n            7.215715        0    2.352900\n",
       "min_dist       103.447520        0   42.089441\n",
       "dist_cap       147.674452        0   76.063134\n",
       "poor             0.846498        0    0.360473\n",
       "progresa         0.615663        0    0.486441\n",
       "hohedu           2.768104        0    2.656106\n",
       "welfare_index  690.346564      210  139.491130\n",
       "hohsex           0.925185       20    0.263095\n",
       "hohage          44.436717       10   11.620372\n",
       "age             11.366460        0    3.167744\n",
       "sc97             0.813922     3872    0.389172"
      ]
     },
     "execution_count": 63,
     "metadata": {},
     "output_type": "execute_result"
    }
   ],
   "source": [
    "# Create summary statistics table\n",
    "dfDemo = pd.DataFrame(data={'mean': means, 'std': std, 'missing': missing})\n",
    "dfDemo"
   ]
  },
  {
   "cell_type": "markdown",
   "metadata": {
    "ein.tags": "worksheet-0",
    "slideshow": {
     "slide_type": "-"
    }
   },
   "source": [
    "### 1.2 Differences at baseline?\n",
    "\n",
    "Are the baseline (1997) demographic characteristics **for the poor**\n",
    "different in treatment and control villages? Hint: Use a T-Test to\n",
    "determine whether there is a statistically significant difference in\n",
    "the average values of each of the variables in the dataset. Focus only\n",
    "on the data from 1997 for individuals who are poor (i.e.,\n",
    "poor=='pobre').\n",
    "\n",
    "Present your results in a single table with the following columns and 14 (or so) rows:\n",
    "\n",
    "| Variable name | Average value (Treatment villages) | Average value (Control villages) | Difference (Treat - Control) | p-value |\n",
    "|------|------|------|------|------|\n",
    "|Male|?|?|?|?|\n"
   ]
  },
  {
   "cell_type": "code",
   "execution_count": 79,
   "metadata": {
    "autoscroll": false,
    "ein.tags": "worksheet-0",
    "scrolled": false,
    "slideshow": {
     "slide_type": "-"
    }
   },
   "outputs": [
    {
     "data": {
      "text/html": [
       "<div>\n",
       "<style>\n",
       "    .dataframe thead tr:only-child th {\n",
       "        text-align: right;\n",
       "    }\n",
       "\n",
       "    .dataframe thead th {\n",
       "        text-align: left;\n",
       "    }\n",
       "\n",
       "    .dataframe tbody tr th {\n",
       "        vertical-align: top;\n",
       "    }\n",
       "</style>\n",
       "<table border=\"1\" class=\"dataframe\">\n",
       "  <thead>\n",
       "    <tr style=\"text-align: right;\">\n",
       "      <th></th>\n",
       "      <th>Variable name</th>\n",
       "      <th>Average value (Treatment villages)</th>\n",
       "      <th>Average value (Control villages)</th>\n",
       "      <th>Difference (Treat - Control)</th>\n",
       "      <th>p-value</th>\n",
       "    </tr>\n",
       "  </thead>\n",
       "  <tbody>\n",
       "    <tr>\n",
       "      <th>0</th>\n",
       "      <td>sex</td>\n",
       "      <td>0.519317</td>\n",
       "      <td>0.505052</td>\n",
       "      <td>2.334621</td>\n",
       "      <td>1.956962e-02</td>\n",
       "    </tr>\n",
       "    <tr>\n",
       "      <th>1</th>\n",
       "      <td>indig</td>\n",
       "      <td>0.325986</td>\n",
       "      <td>0.332207</td>\n",
       "      <td>-1.561670</td>\n",
       "      <td>1.183760e-01</td>\n",
       "    </tr>\n",
       "    <tr>\n",
       "      <th>2</th>\n",
       "      <td>dist_sec</td>\n",
       "      <td>2.453122</td>\n",
       "      <td>2.507662</td>\n",
       "      <td>-0.041252</td>\n",
       "      <td>9.670949e-01</td>\n",
       "    </tr>\n",
       "    <tr>\n",
       "      <th>3</th>\n",
       "      <td>sc</td>\n",
       "      <td>0.822697</td>\n",
       "      <td>0.815186</td>\n",
       "      <td>1.689261</td>\n",
       "      <td>9.117959e-02</td>\n",
       "    </tr>\n",
       "    <tr>\n",
       "      <th>4</th>\n",
       "      <td>grc</td>\n",
       "      <td>3.531599</td>\n",
       "      <td>3.543050</td>\n",
       "      <td>-0.851002</td>\n",
       "      <td>3.947750e-01</td>\n",
       "    </tr>\n",
       "    <tr>\n",
       "      <th>5</th>\n",
       "      <td>fam_n</td>\n",
       "      <td>7.281327</td>\n",
       "      <td>7.302469</td>\n",
       "      <td>-0.800187</td>\n",
       "      <td>4.236088e-01</td>\n",
       "    </tr>\n",
       "    <tr>\n",
       "      <th>6</th>\n",
       "      <td>min_dist</td>\n",
       "      <td>107.152915</td>\n",
       "      <td>103.237854</td>\n",
       "      <td>8.766462</td>\n",
       "      <td>1.936661e-18</td>\n",
       "    </tr>\n",
       "    <tr>\n",
       "      <th>7</th>\n",
       "      <td>dist_cap</td>\n",
       "      <td>150.829074</td>\n",
       "      <td>153.769730</td>\n",
       "      <td>-2.927983</td>\n",
       "      <td>3.414194e-03</td>\n",
       "    </tr>\n",
       "    <tr>\n",
       "      <th>8</th>\n",
       "      <td>hohedu</td>\n",
       "      <td>2.663139</td>\n",
       "      <td>2.590348</td>\n",
       "      <td>2.224346</td>\n",
       "      <td>2.613239e-02</td>\n",
       "    </tr>\n",
       "    <tr>\n",
       "      <th>9</th>\n",
       "      <td>welfare_index</td>\n",
       "      <td>655.428377</td>\n",
       "      <td>659.579100</td>\n",
       "      <td>-3.559301</td>\n",
       "      <td>3.724043e-04</td>\n",
       "    </tr>\n",
       "    <tr>\n",
       "      <th>10</th>\n",
       "      <td>hohsex</td>\n",
       "      <td>0.924656</td>\n",
       "      <td>0.922947</td>\n",
       "      <td>0.709333</td>\n",
       "      <td>4.781232e-01</td>\n",
       "    </tr>\n",
       "    <tr>\n",
       "      <th>11</th>\n",
       "      <td>hohage</td>\n",
       "      <td>43.648828</td>\n",
       "      <td>44.276918</td>\n",
       "      <td>-4.761979</td>\n",
       "      <td>1.925767e-06</td>\n",
       "    </tr>\n",
       "    <tr>\n",
       "      <th>12</th>\n",
       "      <td>age</td>\n",
       "      <td>10.716991</td>\n",
       "      <td>10.742023</td>\n",
       "      <td>-1.156182</td>\n",
       "      <td>2.476155e-01</td>\n",
       "    </tr>\n",
       "    <tr>\n",
       "      <th>13</th>\n",
       "      <td>sc97</td>\n",
       "      <td>0.822697</td>\n",
       "      <td>0.815186</td>\n",
       "      <td>1.689261</td>\n",
       "      <td>9.117959e-02</td>\n",
       "    </tr>\n",
       "  </tbody>\n",
       "</table>\n",
       "</div>"
      ],
      "text/plain": [
       "    Variable name  Average value (Treatment villages)  \\\n",
       "0             sex                            0.519317   \n",
       "1           indig                            0.325986   \n",
       "2        dist_sec                            2.453122   \n",
       "3              sc                            0.822697   \n",
       "4             grc                            3.531599   \n",
       "5           fam_n                            7.281327   \n",
       "6        min_dist                          107.152915   \n",
       "7        dist_cap                          150.829074   \n",
       "8          hohedu                            2.663139   \n",
       "9   welfare_index                          655.428377   \n",
       "10         hohsex                            0.924656   \n",
       "11         hohage                           43.648828   \n",
       "12            age                           10.716991   \n",
       "13           sc97                            0.822697   \n",
       "\n",
       "    Average value (Control villages)  Difference (Treat - Control)  \\\n",
       "0                           0.505052                      2.334621   \n",
       "1                           0.332207                     -1.561670   \n",
       "2                           2.507662                     -0.041252   \n",
       "3                           0.815186                      1.689261   \n",
       "4                           3.543050                     -0.851002   \n",
       "5                           7.302469                     -0.800187   \n",
       "6                         103.237854                      8.766462   \n",
       "7                         153.769730                     -2.927983   \n",
       "8                           2.590348                      2.224346   \n",
       "9                         659.579100                     -3.559301   \n",
       "10                          0.922947                      0.709333   \n",
       "11                         44.276918                     -4.761979   \n",
       "12                         10.742023                     -1.156182   \n",
       "13                          0.815186                      1.689261   \n",
       "\n",
       "         p-value  \n",
       "0   1.956962e-02  \n",
       "1   1.183760e-01  \n",
       "2   9.670949e-01  \n",
       "3   9.117959e-02  \n",
       "4   3.947750e-01  \n",
       "5   4.236088e-01  \n",
       "6   1.936661e-18  \n",
       "7   3.414194e-03  \n",
       "8   2.613239e-02  \n",
       "9   3.724043e-04  \n",
       "10  4.781232e-01  \n",
       "11  1.925767e-06  \n",
       "12  2.476155e-01  \n",
       "13  9.117959e-02  "
      ]
     },
     "execution_count": 79,
     "metadata": {},
     "output_type": "execute_result"
    }
   ],
   "source": [
    "# your code here\n",
    "variables = ['sex', 'indig', 'dist_sec', 'sc', 'grc', 'fam_n', 'min_dist', 'dist_cap', 'hohedu', 'welfare_index', 'hohsex', 'hohage', 'age', 'sc97']\n",
    "columns = ['Variable name', 'Average value (Treatment villages)', 'Average value (Control villages)', 'Difference (Treat - Control)', 'p-value']\n",
    "df97poor = df[(df['year'] == 97) & (df['poor'] == 1)]\n",
    "\n",
    "treatment = df97poor[(df97poor['progresa'] == 1)]\n",
    "control = df97poor[df97poor['progresa'] == 0]\n",
    "\n",
    "dfResults = pd.DataFrame(columns=columns)\n",
    "\n",
    "for var in variables:\n",
    "    ttest = st.ttest_ind(treatment.dropna()[var], control.dropna()[var])\n",
    "    dfTemp = pd.DataFrame([[var, treatment[var].mean(), control[var].mean(), ttest[0], ttest[1]]], columns=columns)\n",
    "    dfResults = pd.concat([dfResults, dfTemp], ignore_index=True)\n",
    "\n",
    "dfResults"
   ]
  },
  {
   "cell_type": "markdown",
   "metadata": {
    "ein.tags": "worksheet-0",
    "slideshow": {
     "slide_type": "-"
    }
   },
   "source": [
    "### 1.3 Interpretation\n",
    "\n",
    "* A: Are there statistically significant differences between treatment and control villages as baseline? \n",
    "* B: Why does it matter if there are differences at baseline?\n",
    "* C: What does this imply about how to measure the impact of the treatment?"
   ]
  },
  {
   "cell_type": "markdown",
   "metadata": {
    "ein.tags": "worksheet-0",
    "slideshow": {
     "slide_type": "-"
    }
   },
   "source": [
    "*Discuss your results here*\n",
    "A. There are statistically significant differences between treatment and control villages where variables are:\n",
    "- sex\n",
    "    - p-value .01956962 < 0.05\n",
    "    - Significant\n",
    "- min_dist\n",
    "    - p-value 1.936661e-18 < 0.05\n",
    "    - Very significant\n",
    "- dist_cap\n",
    "    - p-value .003414194 < 0.05\n",
    "    - Very significant\n",
    "- hohedu\n",
    "    - p-value .02613239 < 0.05\n",
    "    - Significant\n",
    "- welfare_index\n",
    "    - p-value 3.724043e-04 < 0.05\n",
    "    - Very significant\n",
    "- hohage\n",
    "    - p-value 1.925767e-06 < 0.05\n",
    "    - Very significant\n",
    "\n",
    "B. If there are differences at baseline, that means that the Progresa program made statistically significant impact in at least some demographics. Otherwise, the program made no impact whatsoever.\n",
    "\n",
    "C. This implies we should expect to see significant changes in the variables list above in later years."
   ]
  },
  {
   "cell_type": "markdown",
   "metadata": {
    "ein.tags": "worksheet-0",
    "slideshow": {
     "slide_type": "-"
    }
   },
   "source": [
    "### 1.4 Graphical exploration, part 1\n",
    "\n",
    "For each level of household head education, compute the average\n",
    "enrollment rate in 1997. Create a scatterplot that shows this\n",
    "relationship. What do you notice?"
   ]
  },
  {
   "cell_type": "code",
   "execution_count": 184,
   "metadata": {
    "autoscroll": false,
    "ein.tags": "worksheet-0",
    "slideshow": {
     "slide_type": "-"
    }
   },
   "outputs": [
    {
     "data": {
      "text/plain": [
       "<matplotlib.collections.PathCollection at 0x112466400>"
      ]
     },
     "execution_count": 184,
     "metadata": {},
     "output_type": "execute_result"
    },
    {
     "data": {
      "image/png": "[encoded data removed]",
      "text/plain": [
       "<matplotlib.figure.Figure at 0x1a21fe56a0>"
      ]
     },
     "metadata": {},
     "output_type": "display_data"
    }
   ],
   "source": [
    "# Your code here\n",
    "df97 = df[(df['year'] == 97)]\n",
    "\n",
    "plt.figure(figsize=(10,8))\n",
    "plt.scatter(df97['hohedu'].unique(), df97.groupby('hohedu')['sc'].mean(), marker='o') "
   ]
  },
  {
   "cell_type": "markdown",
   "metadata": {
    "ein.tags": "worksheet-0",
    "slideshow": {
     "slide_type": "-"
    }
   },
   "source": [
    "*Discuss your results here*\n",
    "\n",
    "The general trend looks like the more education the head of household has, the higher the enrollment in school. \n",
    "\n",
    "However, there is one outlier. Head of household with 20 years of education has a very low rate of enrollment in school that year. However, this can be due to lack of people who fit that demographic and may not have many children or their children are already past school age."
   ]
  },
  {
   "cell_type": "markdown",
   "metadata": {
    "ein.tags": "worksheet-0",
    "slideshow": {
     "slide_type": "-"
    }
   },
   "source": [
    "### 1.5 Graphical exploration, part 2\n",
    "\n",
    "Create a histogram of village enrollment rates **among poor households\n",
    "in treated villages**, before and after treatment.  Specifically, for\n",
    "each village, calculate the average rate of enrollment of poor\n",
    "households in treated villages in 1997, then compute the average rate\n",
    "of enrollment of poor households in treated villages in 1998. Create\n",
    "two separate histograms showing the distribution of these average\n",
    "enrollments rates, one histogram for 1997 and one histogram for\n",
    "1998. On each histogram, draw a vertical line that intersects the\n",
    "x-axis at the average value (across all households). Does there appear\n",
    "to be a difference? Is this difference statistically significant?"
   ]
  },
  {
   "cell_type": "code",
   "execution_count": 135,
   "metadata": {
    "autoscroll": false,
    "ein.tags": "worksheet-0",
    "slideshow": {
     "slide_type": "-"
    }
   },
   "outputs": [
    {
     "data": {
      "text/plain": [
       "<matplotlib.lines.Line2D at 0x1c284b37b8>"
      ]
     },
     "execution_count": 135,
     "metadata": {},
     "output_type": "execute_result"
    },
    {
     "data": {
      "image/png": "[encoded data removed]",
      "text/plain": [
       "<matplotlib.figure.Figure at 0x1a14c19978>"
      ]
     },
     "metadata": {},
     "output_type": "display_data"
    }
   ],
   "source": [
    "# Poor, treated households in 1997\n",
    "dfPoorTreated97 = df[(df['year'] == 97) & (df['poor'] == 1) & (df['progresa'] == 1)]\n",
    "histPoorTreated97 = dfPoorTreated97.groupby('village')['sc'].mean().plot(kind='hist')\n",
    "\n",
    "# Calculate average and plot\n",
    "avg97 = dfPoorTreated97['sc'].mean()\n",
    "plt.axvline(avg97, color='k', linestyle='-')"
   ]
  },
  {
   "cell_type": "code",
   "execution_count": 119,
   "metadata": {},
   "outputs": [
    {
     "data": {
      "text/plain": [
       "<matplotlib.lines.Line2D at 0x1a22585a20>"
      ]
     },
     "execution_count": 119,
     "metadata": {},
     "output_type": "execute_result"
    },
    {
     "data": {
      "image/png": "[encoded data removed]",
      "text/plain": [
       "<matplotlib.figure.Figure at 0x1a22042208>"
      ]
     },
     "metadata": {},
     "output_type": "display_data"
    }
   ],
   "source": [
    "# Poor, treated households in 1998\n",
    "dfPoorTreated98 = df[(df['year'] == 98) & (df['poor'] == 1) & (df['progresa'] == 1)]\n",
    "histPoorTreated98 = dfPoorTreated98.groupby('village')['sc'].mean().plot(kind='hist')\n",
    "\n",
    "# Calculate average and plot\n",
    "avg98 = dfPoorTreated98['sc'].mean()\n",
    "plt.axvline(avg98, color='k', linestyle='-')"
   ]
  },
  {
   "cell_type": "code",
   "execution_count": 133,
   "metadata": {},
   "outputs": [
    {
     "data": {
      "text/plain": [
       "Ttest_indResult(statistic=-2.0157134865156379, pvalue=0.04424870036572115)"
      ]
     },
     "execution_count": 133,
     "metadata": {},
     "output_type": "execute_result"
    }
   ],
   "source": [
    "# Is difference statistically different?\n",
    "st.ttest_ind(dfPoorTreated97.groupby('village')['sc'].mean(), dfPoorTreated98.groupby('village')['sc'].mean())\n",
    "\n",
    "# Result: pvalue = 0.04424870036572115"
   ]
  },
  {
   "cell_type": "markdown",
   "metadata": {
    "ein.tags": "worksheet-0",
    "slideshow": {
     "slide_type": "-"
    }
   },
   "source": [
    "*Discuss your results here*\n",
    "\n",
    "The difference between the average enrollment rate across households in 1997 and in 1998 is statistically significant. The p-value is 0.044, which is lower than the p-value threshold 0.05.\n",
    "\n",
    "Reject null hypothesis. Progresa made a statistically significant difference in enrollment in treated households."
   ]
  },
  {
   "cell_type": "markdown",
   "metadata": {
    "ein.tags": "worksheet-0",
    "slideshow": {
     "slide_type": "-"
    }
   },
   "source": [
    "## Part 2: Measuring Impact\n",
    "\n",
    "Our goal is to estimate the causal impact of the PROGRESA program on\n",
    "the social and economic outcomes of individuals in Mexico. We will\n",
    "focus on the impact of the program on the poor (those with\n",
    "poor=='pobre'), since only the poor were eligible to receive the\n",
    "PROGRESA assistance.\n",
    "\n",
    "### 2.1 Simple differences: T-test\n",
    "\n",
    "Begin by estimating the impact of Progresa using \"simple differences.\"\n",
    "Restricting yourself to data from 1998 (after treatment), calculate\n",
    "the average enrollment rate among **poor** households in the Treatment\n",
    "villages and the average enrollment rate among **poor** households in\n",
    "the control villages. Use a t-test to determine if this difference is\n",
    "statistically significant. What do you conclude?"
   ]
  },
  {
   "cell_type": "code",
   "execution_count": 136,
   "metadata": {
    "autoscroll": false,
    "ein.tags": "worksheet-0",
    "slideshow": {
     "slide_type": "-"
    }
   },
   "outputs": [
    {
     "data": {
      "text/plain": [
       "Ttest_indResult(statistic=2.5241266257746298, pvalue=0.011905294137542672)"
      ]
     },
     "execution_count": 136,
     "metadata": {},
     "output_type": "execute_result"
    }
   ],
   "source": [
    "# Your code here\n",
    "mean98Treated = df[(df['year'] == 98) & (df['poor'] == 1) & (df['progresa'] == 1)].groupby('village')['sc'].mean()\n",
    "mean98Control = df[(df['year'] == 98) & (df['poor'] == 1) & (df['progresa'] == 0)].groupby('village')['sc'].mean()\n",
    "\n",
    "st.ttest_ind(mean98Treated, mean98Control)\n",
    "\n",
    "# pvalue = 0.011905294137542672"
   ]
  },
  {
   "cell_type": "markdown",
   "metadata": {
    "ein.tags": "worksheet-0",
    "slideshow": {
     "slide_type": "-"
    }
   },
   "source": [
    "*Discuss your results here*\n",
    "\n",
    "The difference in average enrollment rate between treatment and control villages in 1998 is statistically significant. The p-value is 0.0119, which is significantly lower than the p-value threshold 0.05.\n",
    "\n",
    "Reject null hypothesis. Progresa made a statistically significant difference in enrollment."
   ]
  },
  {
   "cell_type": "markdown",
   "metadata": {
    "ein.tags": "worksheet-0",
    "slideshow": {
     "slide_type": "-"
    }
   },
   "source": [
    "### 2.2 Simple differences: Regression\n",
    "\n",
    "Estimate the effects of Progresa on enrollment using a regression\n",
    "model, by regressing the 1998 enrollment rates **of the poor** on\n",
    "treatment assignment.  Do not include any additional control\n",
    "variables.\n",
    "Discuss the following:\n",
    "\n",
    "* Based on this model, how much did Progresa increase the likelihood of a child enrolling?\n",
    "* How does your regression estimate compare to your t-test estimate from part 2.1?\n",
    "* Based on this regression model, can we reject the null hypothesis that the treatment effects are zero? \n",
    "* What is the counterfactual assumption underlying this regression?\n",
    "\n",
    "Note: I recommend to use statsmodels.formula.api as this allows to use\n",
    "convenient R-style formulas and provedes nice summaries of the results."
   ]
  },
  {
   "cell_type": "code",
   "execution_count": 139,
   "metadata": {
    "autoscroll": false,
    "ein.tags": "worksheet-0",
    "slideshow": {
     "slide_type": "-"
    }
   },
   "outputs": [
    {
     "name": "stdout",
     "output_type": "stream",
     "text": [
      "                            OLS Regression Results                            \n",
      "==============================================================================\n",
      "Dep. Variable:                     sc   R-squared:                       0.003\n",
      "Model:                            OLS   Adj. R-squared:                  0.003\n",
      "Method:                 Least Squares   F-statistic:                     69.87\n",
      "Date:                Thu, 08 Feb 2018   Prob (F-statistic):           6.64e-17\n",
      "Time:                        17:42:34   Log-Likelihood:                -11926.\n",
      "No. Observations:               27450   AIC:                         2.386e+04\n",
      "Df Residuals:                   27448   BIC:                         2.387e+04\n",
      "Df Model:                           1                                         \n",
      "Covariance Type:            nonrobust                                         \n",
      "==============================================================================\n",
      "                 coef    std err          t      P>|t|      [0.025      0.975]\n",
      "------------------------------------------------------------------------------\n",
      "Intercept      0.8076      0.004    220.676      0.000       0.800       0.815\n",
      "progresa       0.0388      0.005      8.359      0.000       0.030       0.048\n",
      "==============================================================================\n",
      "Omnibus:                     7638.939   Durbin-Watson:                   1.734\n",
      "Prob(Omnibus):                  0.000   Jarque-Bera (JB):            15767.534\n",
      "Skew:                          -1.767   Prob(JB):                         0.00\n",
      "Kurtosis:                       4.140   Cond. No.                         3.01\n",
      "==============================================================================\n",
      "\n",
      "Warnings:\n",
      "[1] Standard Errors assume that the covariance matrix of the errors is correctly specified.\n"
     ]
    }
   ],
   "source": [
    "# Your code here\n",
    "df98 = df[(df['year'] == 98) & (df['poor'] == 1)]\n",
    "\n",
    "lm98 = smf.ols(formula = 'sc ~ progresa', data = df98).fit()\n",
    "print(lm98.summary())"
   ]
  },
  {
   "cell_type": "markdown",
   "metadata": {
    "ein.tags": "worksheet-0",
    "slideshow": {
     "slide_type": "-"
    }
   },
   "source": [
    "*Discuss your results here*\n",
    "\n",
    "The coefficient is positive, which means that the program made a positive impact on enrollment (i.e. enrollment increased). The coefficient is 0.0388. I would interpret this to mean that Progresa increases the likelihood of a child being enrolled by about 4%.\n",
    "\n",
    "The t-statistic from t-test in 2.1 was 2.52. The t-statistic here is 8.359.\n",
    "\n",
    "P-value is 0.00, which means we reject the null hypothesis because it is less than 0.05. The difference in enrollment between treated and control households/villages is statistically significant.\n",
    "\n",
    "In other words, we reject the null hypothesis that the treatment effects are zero.\n",
    "\n",
    "The counterfactual assumption underlying this regression is the null hypothesis that the treatment effects are zero.\n"
   ]
  },
  {
   "cell_type": "markdown",
   "metadata": {
    "ein.tags": "worksheet-0",
    "slideshow": {
     "slide_type": "-"
    }
   },
   "source": [
    "\n",
    "### 2.3 Multiple Regression\n",
    "\n",
    "Re-run the above regression estimated but this time include a set of\n",
    "relevant control variables. Include, for instance, age, distance to a secondary\n",
    "school, gender, education of household head, welfare index,\n",
    "indigenous, etc.\n",
    "\n",
    "* How do the controls affect the point estimate of treatment effect?\n",
    "* How do the controls affect the standard error on the treatment effect? \n",
    "* How do you interpret the differences (or similarities) between your estimates of 2.2 and 2.3?"
   ]
  },
  {
   "cell_type": "code",
   "execution_count": 155,
   "metadata": {
    "autoscroll": false,
    "ein.tags": "worksheet-0",
    "slideshow": {
     "slide_type": "-"
    }
   },
   "outputs": [
    {
     "name": "stderr",
     "output_type": "stream",
     "text": [
      "/Users/kathryn/anaconda3/lib/python3.6/site-packages/ipykernel_launcher.py:5: SettingWithCopyWarning: \n",
      "A value is trying to be set on a copy of a slice from a DataFrame\n",
      "\n",
      "See the caveats in the documentation: http://pandas.pydata.org/pandas-docs/stable/indexing.html#indexing-view-versus-copy\n",
      "  \"\"\"\n"
     ]
    },
    {
     "data": {
      "text/html": [
       "<table class=\"simpletable\">\n",
       "<caption>OLS Regression Results</caption>\n",
       "<tr>\n",
       "  <th>Dep. Variable:</th>           <td>sc</td>        <th>  R-squared:         </th> <td>   0.449</td>\n",
       "</tr>\n",
       "<tr>\n",
       "  <th>Model:</th>                   <td>OLS</td>       <th>  Adj. R-squared:    </th> <td>   0.449</td>\n",
       "</tr>\n",
       "<tr>\n",
       "  <th>Method:</th>             <td>Least Squares</td>  <th>  F-statistic:       </th> <td>   1523.</td>\n",
       "</tr>\n",
       "<tr>\n",
       "  <th>Date:</th>             <td>Thu, 08 Feb 2018</td> <th>  Prob (F-statistic):</th>  <td>  0.00</td> \n",
       "</tr>\n",
       "<tr>\n",
       "  <th>Time:</th>                 <td>18:05:03</td>     <th>  Log-Likelihood:    </th> <td> -3405.8</td>\n",
       "</tr>\n",
       "<tr>\n",
       "  <th>No. Observations:</th>      <td> 26155</td>      <th>  AIC:               </th> <td>   6842.</td>\n",
       "</tr>\n",
       "<tr>\n",
       "  <th>Df Residuals:</th>          <td> 26140</td>      <th>  BIC:               </th> <td>   6964.</td>\n",
       "</tr>\n",
       "<tr>\n",
       "  <th>Df Model:</th>              <td>    14</td>      <th>                     </th>     <td> </td>   \n",
       "</tr>\n",
       "<tr>\n",
       "  <th>Covariance Type:</th>      <td>nonrobust</td>    <th>                     </th>     <td> </td>   \n",
       "</tr>\n",
       "</table>\n",
       "<table class=\"simpletable\">\n",
       "<tr>\n",
       "        <td></td>           <th>coef</th>     <th>std err</th>      <th>t</th>      <th>P>|t|</th>  <th>[0.025</th>    <th>0.975]</th>  \n",
       "</tr>\n",
       "<tr>\n",
       "  <th>const</th>         <td>    0.8092</td> <td>    0.020</td> <td>   39.795</td> <td> 0.000</td> <td>    0.769</td> <td>    0.849</td>\n",
       "</tr>\n",
       "<tr>\n",
       "  <th>sex</th>           <td>    0.0162</td> <td>    0.003</td> <td>    4.740</td> <td> 0.000</td> <td>    0.010</td> <td>    0.023</td>\n",
       "</tr>\n",
       "<tr>\n",
       "  <th>indig</th>         <td>    0.0117</td> <td>    0.004</td> <td>    2.794</td> <td> 0.005</td> <td>    0.004</td> <td>    0.020</td>\n",
       "</tr>\n",
       "<tr>\n",
       "  <th>dist_sec</th>      <td>   -0.0049</td> <td>    0.001</td> <td>   -5.944</td> <td> 0.000</td> <td>   -0.006</td> <td>   -0.003</td>\n",
       "</tr>\n",
       "<tr>\n",
       "  <th>grc</th>           <td>    0.0172</td> <td>    0.001</td> <td>   12.146</td> <td> 0.000</td> <td>    0.014</td> <td>    0.020</td>\n",
       "</tr>\n",
       "<tr>\n",
       "  <th>fam_n</th>         <td>    0.0007</td> <td>    0.001</td> <td>    0.848</td> <td> 0.397</td> <td>   -0.001</td> <td>    0.002</td>\n",
       "</tr>\n",
       "<tr>\n",
       "  <th>min_dist</th>      <td>    0.0002</td> <td> 5.63e-05</td> <td>    3.808</td> <td> 0.000</td> <td>    0.000</td> <td>    0.000</td>\n",
       "</tr>\n",
       "<tr>\n",
       "  <th>dist_cap</th>      <td>    0.0001</td> <td> 3.26e-05</td> <td>    3.802</td> <td> 0.000</td> <td>    6e-05</td> <td>    0.000</td>\n",
       "</tr>\n",
       "<tr>\n",
       "  <th>hohedu</th>        <td>    0.0035</td> <td>    0.001</td> <td>    4.527</td> <td> 0.000</td> <td>    0.002</td> <td>    0.005</td>\n",
       "</tr>\n",
       "<tr>\n",
       "  <th>welfare_index</th> <td>-1.598e-05</td> <td> 1.61e-05</td> <td>   -0.995</td> <td> 0.320</td> <td>-4.75e-05</td> <td> 1.55e-05</td>\n",
       "</tr>\n",
       "<tr>\n",
       "  <th>hohsex</th>        <td>    0.0126</td> <td>    0.007</td> <td>    1.850</td> <td> 0.064</td> <td>   -0.001</td> <td>    0.026</td>\n",
       "</tr>\n",
       "<tr>\n",
       "  <th>hohage</th>        <td>-8.007e-05</td> <td>    0.000</td> <td>   -0.460</td> <td> 0.646</td> <td>   -0.000</td> <td>    0.000</td>\n",
       "</tr>\n",
       "<tr>\n",
       "  <th>age</th>           <td>   -0.0497</td> <td>    0.001</td> <td>  -39.602</td> <td> 0.000</td> <td>   -0.052</td> <td>   -0.047</td>\n",
       "</tr>\n",
       "<tr>\n",
       "  <th>sc97</th>          <td>    0.5074</td> <td>    0.006</td> <td>   84.951</td> <td> 0.000</td> <td>    0.496</td> <td>    0.519</td>\n",
       "</tr>\n",
       "<tr>\n",
       "  <th>progresa</th>      <td>    0.0328</td> <td>    0.004</td> <td>    9.275</td> <td> 0.000</td> <td>    0.026</td> <td>    0.040</td>\n",
       "</tr>\n",
       "</table>\n",
       "<table class=\"simpletable\">\n",
       "<tr>\n",
       "  <th>Omnibus:</th>       <td>6079.450</td> <th>  Durbin-Watson:     </th> <td>   1.772</td> \n",
       "</tr>\n",
       "<tr>\n",
       "  <th>Prob(Omnibus):</th>  <td> 0.000</td>  <th>  Jarque-Bera (JB):  </th> <td>21071.903</td>\n",
       "</tr>\n",
       "<tr>\n",
       "  <th>Skew:</th>           <td>-1.154</td>  <th>  Prob(JB):          </th> <td>    0.00</td> \n",
       "</tr>\n",
       "<tr>\n",
       "  <th>Kurtosis:</th>       <td> 6.743</td>  <th>  Cond. No.          </th> <td>8.40e+03</td> \n",
       "</tr>\n",
       "</table>"
      ],
      "text/plain": [
       "<class 'statsmodels.iolib.summary.Summary'>\n",
       "\"\"\"\n",
       "                            OLS Regression Results                            \n",
       "==============================================================================\n",
       "Dep. Variable:                     sc   R-squared:                       0.449\n",
       "Model:                            OLS   Adj. R-squared:                  0.449\n",
       "Method:                 Least Squares   F-statistic:                     1523.\n",
       "Date:                Thu, 08 Feb 2018   Prob (F-statistic):               0.00\n",
       "Time:                        18:05:03   Log-Likelihood:                -3405.8\n",
       "No. Observations:               26155   AIC:                             6842.\n",
       "Df Residuals:                   26140   BIC:                             6964.\n",
       "Df Model:                          14                                         \n",
       "Covariance Type:            nonrobust                                         \n",
       "=================================================================================\n",
       "                    coef    std err          t      P>|t|      [0.025      0.975]\n",
       "---------------------------------------------------------------------------------\n",
       "const             0.8092      0.020     39.795      0.000       0.769       0.849\n",
       "sex               0.0162      0.003      4.740      0.000       0.010       0.023\n",
       "indig             0.0117      0.004      2.794      0.005       0.004       0.020\n",
       "dist_sec         -0.0049      0.001     -5.944      0.000      -0.006      -0.003\n",
       "grc               0.0172      0.001     12.146      0.000       0.014       0.020\n",
       "fam_n             0.0007      0.001      0.848      0.397      -0.001       0.002\n",
       "min_dist          0.0002   5.63e-05      3.808      0.000       0.000       0.000\n",
       "dist_cap          0.0001   3.26e-05      3.802      0.000       6e-05       0.000\n",
       "hohedu            0.0035      0.001      4.527      0.000       0.002       0.005\n",
       "welfare_index -1.598e-05   1.61e-05     -0.995      0.320   -4.75e-05    1.55e-05\n",
       "hohsex            0.0126      0.007      1.850      0.064      -0.001       0.026\n",
       "hohage        -8.007e-05      0.000     -0.460      0.646      -0.000       0.000\n",
       "age              -0.0497      0.001    -39.602      0.000      -0.052      -0.047\n",
       "sc97              0.5074      0.006     84.951      0.000       0.496       0.519\n",
       "progresa          0.0328      0.004      9.275      0.000       0.026       0.040\n",
       "==============================================================================\n",
       "Omnibus:                     6079.450   Durbin-Watson:                   1.772\n",
       "Prob(Omnibus):                  0.000   Jarque-Bera (JB):            21071.903\n",
       "Skew:                          -1.154   Prob(JB):                         0.00\n",
       "Kurtosis:                       6.743   Cond. No.                     8.40e+03\n",
       "==============================================================================\n",
       "\n",
       "Warnings:\n",
       "[1] Standard Errors assume that the covariance matrix of the errors is correctly specified.\n",
       "[2] The condition number is large, 8.4e+03. This might indicate that there are\n",
       "strong multicollinearity or other numerical problems.\n",
       "\"\"\""
      ]
     },
     "execution_count": 155,
     "metadata": {},
     "output_type": "execute_result"
    }
   ],
   "source": [
    "# Your code here\n",
    "variables = ['sex', 'indig', 'dist_sec', 'grc', 'fam_n', 'min_dist', 'dist_cap', 'hohedu', 'welfare_index', 'hohsex', 'hohage', 'age', 'sc97', 'progresa']\n",
    "df98 = df[(df['year'] == 98) & (df['poor'] == 1)]\n",
    "\n",
    "df98.dropna(inplace=True)\n",
    "\n",
    "lm98 = sm.OLS(df98['sc'], sm.add_constant(df98[variables])).fit()\n",
    "lm98.summary()"
   ]
  },
  {
   "cell_type": "markdown",
   "metadata": {
    "ein.tags": "worksheet-0",
    "slideshow": {
     "slide_type": "-"
    }
   },
   "source": [
    "*Discuss your results here*\n",
    "\n",
    "Without controls...\n",
    "- Point estimate is: 0.0388\n",
    "- Standard error is: 0.005\n",
    "- P-value is: 0.000\n",
    "\n",
    "With controls...\n",
    "- Point estimate is: 0.0328\n",
    "- Standard error is: 0.004\n",
    "- P-value is: 0.000\n",
    "\n",
    "With controls, point estimate and standard error are slightly lower. However, t-statistic is higher with controls (9.275 > 8.359). P-value is the same (0.00)\n",
    "\n",
    "\n",
    "\n",
    "!!! I don't understand what point estimate is."
   ]
  },
  {
   "cell_type": "markdown",
   "metadata": {
    "ein.tags": "worksheet-0",
    "slideshow": {
     "slide_type": "-"
    }
   },
   "source": [
    "### 2.4 Difference-in-Difference, version 1 (tabular)\n",
    "\n",
    "Thus far, we have computed the effects of Progresa by estimating the\n",
    "difference in 1998 enrollment rates across villages. An alternative\n",
    "approach would be to compute the treatment effect using a\n",
    "difference-in-differences framework.\n",
    "\n",
    "Begin by estimating the average treatment effects of the program for poor households using data from 1997 and 1998. Specifically, calculate:\n",
    "\n",
    "a) the difference (between 1997 and 1998) in enrollment rates among poor households in treated villages\n",
    "\n",
    "b) the difference (between 1997 and 1998) in enrollment rates among poor households in control villages.\n",
    "\n",
    "c) The difference between these two differences is your estimate.\n",
    "\n",
    "* What is your estimate of the impact, and how does it compare to your earlier (simple difference) results?\n",
    "\n",
    "* What is the counterfactual assumption underlying this estimate? \n"
   ]
  },
  {
   "cell_type": "code",
   "execution_count": 185,
   "metadata": {
    "autoscroll": false,
    "ein.tags": "worksheet-0",
    "slideshow": {
     "slide_type": "-"
    }
   },
   "outputs": [
    {
     "name": "stdout",
     "output_type": "stream",
     "text": [
      "0.023782233992046597\n",
      "-0.007549046327276487\n",
      "0.031331280319323085\n"
     ]
    }
   ],
   "source": [
    "# Your code here\n",
    "# a\n",
    "\n",
    "meanPoorTreated97 = (df[(df['year'] == 97) & (df['poor'] == 1) & (df['progresa'] == 1)])['sc'].mean()\n",
    "meanPoorTreated98 = (df[(df['year'] == 98) & (df['poor'] == 1) & (df['progresa'] == 1)])['sc'].mean()\n",
    "\n",
    "difTreated = meanPoorTreated98 - meanPoorTreated97\n",
    "\n",
    "# b\n",
    "\n",
    "meanPoorControl97 = (df[(df['year'] == 97) & (df['poor'] == 1) & (df['progresa'] == 0)])['sc'].mean()\n",
    "meanPoorControl98 = (df[(df['year'] == 98) & (df['poor'] == 1) & (df['progresa'] == 0)])['sc'].mean()\n",
    "\n",
    "difControl = meanPoorControl98 - meanPoorControl97\n",
    "\n",
    "# c\n",
    "\n",
    "print(difTreated) # 0.023782233992046597\n",
    "print(difControl) # -0.007549046327276487\n",
    "estimate = difTreated - difControl\n",
    "\n",
    "print(estimate) # 0.031331280319323085"
   ]
  },
  {
   "cell_type": "markdown",
   "metadata": {
    "ein.tags": "worksheet-0",
    "slideshow": {
     "slide_type": "-"
    }
   },
   "source": [
    "*Discuss your results here*\n",
    "\n",
    "Estimate of the impact is 0.031. The simple difference was 0.0388.\n",
    "\n",
    "The estimate of the impact here is very similar, but just slightly lower than the simple difference (0.031 < 0.0388).\n",
    "\n",
    "The counterfactual assumption underlying this estimate is the null hypothesis that there is no difference in 1998 enrollment rates across villages."
   ]
  },
  {
   "cell_type": "markdown",
   "metadata": {
    "ein.tags": "worksheet-0",
    "slideshow": {
     "slide_type": "-"
    }
   },
   "source": [
    "### 2.5 Difference-in-Difference, version 2 (regression)\n",
    "\n",
    "Now use a regression specification to estimate the average treatment\n",
    "effects of the program in a difference-in-differences\n",
    "framework. Include at least 5 control variables.\n",
    "\n",
    "* What is your estimate of the impact of Progresa? Be very specific in\n",
    "  interpreting your coefficients and standard errors, and make sure to\n",
    "  specify exactly what units you are measuring and estimating.\n",
    "\n",
    "* How do these estimates of the treatment effect compare to the\n",
    "  estimates based on the simple difference?\n",
    "\n",
    "* How do these estimates compare to the difference-in-difference\n",
    "  estimates from 2.4 above? What accounts for these differences?\n",
    "\n",
    "* What is the counterfactual assumption underlying this regression? "
   ]
  },
  {
   "cell_type": "code",
   "execution_count": 197,
   "metadata": {
    "autoscroll": false,
    "ein.tags": "worksheet-0",
    "scrolled": true,
    "slideshow": {
     "slide_type": "-"
    }
   },
   "outputs": [
    {
     "name": "stdout",
     "output_type": "stream",
     "text": [
      "                            OLS Regression Results                            \n",
      "==============================================================================\n",
      "Dep. Variable:                     sc   R-squared:                       0.300\n",
      "Model:                            OLS   Adj. R-squared:                  0.299\n",
      "Method:                 Least Squares   F-statistic:                     1637.\n",
      "Date:                Thu, 08 Feb 2018   Prob (F-statistic):               0.00\n",
      "Time:                        20:03:26   Log-Likelihood:                -5324.2\n",
      "No. Observations:               19133   AIC:                         1.066e+04\n",
      "Df Residuals:                   19127   BIC:                         1.071e+04\n",
      "Df Model:                           5                                         \n",
      "Covariance Type:            nonrobust                                         \n",
      "=================================================================================\n",
      "                    coef    std err          t      P>|t|      [0.025      0.975]\n",
      "---------------------------------------------------------------------------------\n",
      "Intercept         0.8197      0.009     95.628      0.000       0.803       0.836\n",
      "sex               0.0390      0.005      8.424      0.000       0.030       0.048\n",
      "age              -0.0944      0.001    -66.945      0.000      -0.097      -0.092\n",
      "hohedu            0.0044      0.001      4.769      0.000       0.003       0.006\n",
      "welfare_index -3.214e-06   2.07e-05     -0.155      0.877   -4.38e-05    3.74e-05\n",
      "grc               0.0452      0.002     25.485      0.000       0.042       0.049\n",
      "progresa          0.8197      0.009     95.628      0.000       0.803       0.836\n",
      "==============================================================================\n",
      "Omnibus:                     1937.597   Durbin-Watson:                   1.643\n",
      "Prob(Omnibus):                  0.000   Jarque-Bera (JB):             2573.055\n",
      "Skew:                          -0.876   Prob(JB):                         0.00\n",
      "Kurtosis:                       3.401   Cond. No.                     2.12e+18\n",
      "==============================================================================\n",
      "\n",
      "Warnings:\n",
      "[1] Standard Errors assume that the covariance matrix of the errors is correctly specified.\n",
      "[2] The smallest eigenvalue is 1.89e-27. This might indicate that there are\n",
      "strong multicollinearity problems or that the design matrix is singular.\n",
      "                            OLS Regression Results                            \n",
      "==============================================================================\n",
      "Dep. Variable:                     sc   R-squared:                       0.279\n",
      "Model:                            OLS   Adj. R-squared:                  0.279\n",
      "Method:                 Least Squares   F-statistic:                     1313.\n",
      "Date:                Thu, 08 Feb 2018   Prob (F-statistic):               0.00\n",
      "Time:                        20:03:26   Log-Likelihood:                -3990.4\n",
      "No. Observations:               16975   AIC:                             7993.\n",
      "Df Residuals:                   16969   BIC:                             8039.\n",
      "Df Model:                           5                                         \n",
      "Covariance Type:            nonrobust                                         \n",
      "=================================================================================\n",
      "                    coef    std err          t      P>|t|      [0.025      0.975]\n",
      "---------------------------------------------------------------------------------\n",
      "Intercept         0.8569      0.009     95.102      0.000       0.839       0.875\n",
      "sex               0.0322      0.005      6.833      0.000       0.023       0.041\n",
      "age              -0.0958      0.001    -64.736      0.000      -0.099      -0.093\n",
      "hohedu            0.0054      0.001      5.782      0.000       0.004       0.007\n",
      "welfare_index -4.849e-05   2.11e-05     -2.302      0.021   -8.98e-05    -7.2e-06\n",
      "grc               0.0514      0.002     28.299      0.000       0.048       0.055\n",
      "progresa          0.8569      0.009     95.102      0.000       0.839       0.875\n",
      "==============================================================================\n",
      "Omnibus:                     2652.632   Durbin-Watson:                   1.732\n",
      "Prob(Omnibus):                  0.000   Jarque-Bera (JB):             4147.244\n",
      "Skew:                          -1.104   Prob(JB):                         0.00\n",
      "Kurtosis:                       3.995   Cond. No.                          inf\n",
      "==============================================================================\n",
      "\n",
      "Warnings:\n",
      "[1] Standard Errors assume that the covariance matrix of the errors is correctly specified.\n",
      "[2] The smallest eigenvalue is      0. This might indicate that there are\n",
      "strong multicollinearity problems or that the design matrix is singular.\n",
      "-0.00683886002445\n",
      "                            OLS Regression Results                            \n",
      "==============================================================================\n",
      "Dep. Variable:                     sc   R-squared:                       0.319\n",
      "Model:                            OLS   Adj. R-squared:                  0.319\n",
      "Method:                 Least Squares   F-statistic:                     1095.\n",
      "Date:                Thu, 08 Feb 2018   Prob (F-statistic):               0.00\n",
      "Time:                        20:03:26   Log-Likelihood:                -3277.8\n",
      "No. Observations:               11700   AIC:                             6568.\n",
      "Df Residuals:                   11694   BIC:                             6612.\n",
      "Df Model:                           5                                         \n",
      "Covariance Type:            nonrobust                                         \n",
      "=================================================================================\n",
      "                    coef    std err          t      P>|t|      [0.025      0.975]\n",
      "---------------------------------------------------------------------------------\n",
      "Intercept         1.6893      0.022     76.776      0.000       1.646       1.732\n",
      "sex               0.0420      0.006      7.089      0.000       0.030       0.054\n",
      "age              -0.1008      0.002    -56.360      0.000      -0.104      -0.097\n",
      "hohedu            0.0038      0.001      3.135      0.002       0.001       0.006\n",
      "welfare_index -9.578e-06   2.59e-05     -0.370      0.712   -6.04e-05    4.12e-05\n",
      "grc               0.0505      0.002     22.506      0.000       0.046       0.055\n",
      "progresa               0          0        nan        nan           0           0\n",
      "==============================================================================\n",
      "Omnibus:                      992.937   Durbin-Watson:                   1.714\n",
      "Prob(Omnibus):                  0.000   Jarque-Bera (JB):             1261.422\n",
      "Skew:                          -0.793   Prob(JB):                    1.22e-274\n",
      "Kurtosis:                       3.270   Cond. No.                          inf\n",
      "==============================================================================\n",
      "\n",
      "Warnings:\n",
      "[1] Standard Errors assume that the covariance matrix of the errors is correctly specified.\n",
      "[2] The smallest eigenvalue is      0. This might indicate that there are\n",
      "strong multicollinearity problems or that the design matrix is singular.\n",
      "                            OLS Regression Results                            \n",
      "==============================================================================\n",
      "Dep. Variable:                     sc   R-squared:                       0.313\n",
      "Model:                            OLS   Adj. R-squared:                  0.312\n",
      "Method:                 Least Squares   F-statistic:                     939.9\n",
      "Date:                Thu, 08 Feb 2018   Prob (F-statistic):               0.00\n",
      "Time:                        20:03:26   Log-Likelihood:                -3090.7\n",
      "No. Observations:               10332   AIC:                             6193.\n",
      "Df Residuals:                   10326   BIC:                             6237.\n",
      "Df Model:                           5                                         \n",
      "Covariance Type:            nonrobust                                         \n",
      "=================================================================================\n",
      "                    coef    std err          t      P>|t|      [0.025      0.975]\n",
      "---------------------------------------------------------------------------------\n",
      "Intercept         1.7567      0.025     71.063      0.000       1.708       1.805\n",
      "sex               0.0376      0.006      5.843      0.000       0.025       0.050\n",
      "age              -0.1084      0.002    -54.141      0.000      -0.112      -0.104\n",
      "hohedu            0.0067      0.001      5.101      0.000       0.004       0.009\n",
      "welfare_index  2.537e-05    2.8e-05      0.905      0.365   -2.96e-05    8.03e-05\n",
      "grc               0.0541      0.002     22.185      0.000       0.049       0.059\n",
      "progresa               0          0        nan        nan           0           0\n",
      "==============================================================================\n",
      "Omnibus:                      887.506   Durbin-Watson:                   1.680\n",
      "Prob(Omnibus):                  0.000   Jarque-Bera (JB):             1129.778\n",
      "Skew:                          -0.796   Prob(JB):                    4.70e-246\n",
      "Kurtosis:                       3.299   Cond. No.                          inf\n",
      "==============================================================================\n",
      "\n",
      "Warnings:\n",
      "[1] Standard Errors assume that the covariance matrix of the errors is correctly specified.\n",
      "[2] The smallest eigenvalue is      0. This might indicate that there are\n",
      "strong multicollinearity problems or that the design matrix is singular.\n",
      "-0.00446939227586\n",
      "[ 0.00236947]\n"
     ]
    },
    {
     "name": "stderr",
     "output_type": "stream",
     "text": [
      "/Users/kathryn/anaconda3/lib/python3.6/site-packages/statsmodels/regression/linear_model.py:1471: RuntimeWarning: divide by zero encountered in double_scalars\n",
      "  return np.sqrt(eigvals[0]/eigvals[-1])\n",
      "/Users/kathryn/anaconda3/lib/python3.6/site-packages/statsmodels/base/model.py:1036: RuntimeWarning: invalid value encountered in true_divide\n",
      "  return self.params / self.bse\n",
      "/Users/kathryn/anaconda3/lib/python3.6/site-packages/scipy/stats/_distn_infrastructure.py:879: RuntimeWarning: invalid value encountered in greater\n",
      "  return (self.a < x) & (x < self.b)\n",
      "/Users/kathryn/anaconda3/lib/python3.6/site-packages/scipy/stats/_distn_infrastructure.py:879: RuntimeWarning: invalid value encountered in less\n",
      "  return (self.a < x) & (x < self.b)\n",
      "/Users/kathryn/anaconda3/lib/python3.6/site-packages/scipy/stats/_distn_infrastructure.py:1818: RuntimeWarning: invalid value encountered in less_equal\n",
      "  cond2 = cond0 & (x <= self.a)\n"
     ]
    }
   ],
   "source": [
    "# Your code here\n",
    "# a\n",
    "dfPoorTreated97 = df[(df['year'] == 97) & (df['poor'] == 1) & (df['progresa'] == 1)]\n",
    "dfPoorTreated98 = df[(df['year'] == 98) & (df['poor'] == 1) & (df['progresa'] == 1)]\n",
    "\n",
    "lmPoorTreated97 = smf.ols('sc ~ sex + age + hohedu + welfare_index + grc + progresa',\n",
    "                          data=dfPoorTreated97).fit()\n",
    "lmPoorTreated98 = smf.ols('sc ~ sex + age + hohedu + welfare_index + grc + progresa',\n",
    "                          data=dfPoorTreated98).fit()\n",
    "\n",
    "print(lmPoorTreated97.summary())\n",
    "print(lmPoorTreated98.summary())\n",
    "\n",
    "difTreated = lmPoorTreated98.params[1] - lmPoorTreated97.params[1]\n",
    "\n",
    "print(difTreated) # -0.00683886002445\n",
    "\n",
    "# b\n",
    "\n",
    "dfPoorControl97 = df[(df['year'] == 97) & (df['poor'] == 1) & (df['progresa'] == 0)]\n",
    "dfPoorControl98 = df[(df['year'] == 98) & (df['poor'] == 1) & (df['progresa'] == 0)]\n",
    "\n",
    "lmPoorControl97 = smf.ols('sc ~ sex + age + hohedu + welfare_index + grc + progresa',\n",
    "                          data=dfPoorControl97).fit()\n",
    "lmPoorControl98 = smf.ols('sc ~ sex + age + hohedu + welfare_index + grc + progresa',\n",
    "                          data=dfPoorControl98).fit()\n",
    "\n",
    "print(lmPoorControl97.summary())\n",
    "print(lmPoorControl98.summary())\n",
    "\n",
    "difControl = lmPoorControl98.params[1] - lmPoorControl97.params[1]\n",
    "\n",
    "print(difControl) # -0.00446939227586\n",
    "\n",
    "# c\n",
    "\n",
    "estimate = np.diff([difTreated, difControl])\n",
    "\n",
    "print(estimate) # 0.00236947\n"
   ]
  },
  {
   "cell_type": "markdown",
   "metadata": {
    "ein.tags": "worksheet-0",
    "slideshow": {
     "slide_type": "-"
    }
   },
   "source": [
    "*Discuss your results here*\n",
    "\n",
    "I am measuring the units: sex, age, hohedu, welfare_index, grc, and progresa.\n",
    "\n",
    "Estimate of the impact is 0.00236947. The simple difference was 0.0388. The estimate of the impact here is less than the simple difference. \n",
    "\n",
    "The estimate of the impact in 2.4 was 0.031. The estimate of the impact here is less than in 2.4. The control variables account for the differences.\n",
    "\n",
    "The counterfactual assumption underlying this estimate is the null hypothesis that there is no difference in enrollment rates under the Progresa program between 1997 and 1998."
   ]
  },
  {
   "cell_type": "markdown",
   "metadata": {
    "ein.tags": "worksheet-0",
    "slideshow": {
     "slide_type": "-"
    }
   },
   "source": [
    "### 2.6 Summary\n",
    "\n",
    "* Based on all the analysis you have undertaken to date, do you\n",
    "  believe that Progresa had a causal impact on the enrollment rates of\n",
    "  poor households in Mexico?  Explain by referring to the methods and\n",
    "  results above."
   ]
  },
  {
   "cell_type": "markdown",
   "metadata": {
    "ein.tags": "worksheet-0",
    "slideshow": {
     "slide_type": "-"
    }
   },
   "source": [
    "*Discuss your results here*\n",
    "\n",
    "In all the regressions above, I rejected the null hypothesis. Therefore, yes I believe that Progresa had a causal impact on the enrollment rates of poor households in Mexico.\n",
    "\n"
   ]
  }
 ],
 "metadata": {
  "kernelspec": {
   "display_name": "Python 3",
   "language": "python",
   "name": "python3"
  },
  "language_info": {
   "codemirror_mode": {
    "name": "ipython",
    "version": 3
   },
   "file_extension": ".py",
   "mimetype": "text/x-python",
   "name": "python",
   "nbconvert_exporter": "python",
   "pygments_lexer": "ipython3",
   "version": "3.6.3"
  },
  "name": "ps03_progresa.ipynb"
 },
 "nbformat": 4,
 "nbformat_minor": 1
}
